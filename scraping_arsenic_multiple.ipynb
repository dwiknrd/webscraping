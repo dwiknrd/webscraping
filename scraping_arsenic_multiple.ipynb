{
 "cells": [
  {
   "cell_type": "markdown",
   "source": "# ",
   "metadata": {
    "tags": [],
    "cell_id": "00000-91afe4e2-8aaf-47ef-8b79-d8525d47e548",
    "deepnote_cell_type": "text-cell-h1"
   }
  },
  {
   "cell_type": "code",
   "metadata": {
    "tags": [],
    "deepnote_to_be_reexecuted": false,
    "source_hash": "ed62b023",
    "execution_start": 1621665409666,
    "execution_millis": 10186,
    "cell_id": "00001-52a16828-28b1-4ab2-98ad-945a55ce1e69",
    "deepnote_cell_type": "code"
   },
   "source": "!pip install arsenic\n!pip install requests_html",
   "execution_count": 1,
   "outputs": [
    {
     "name": "stdout",
     "text": "Collecting arsenic\n  Downloading arsenic-20.9-py3-none-any.whl (17 kB)\nCollecting structlog<21.0.0,>=20.1.0\n  Downloading structlog-20.2.0-py2.py3-none-any.whl (49 kB)\n\u001b[K     |████████████████████████████████| 49 kB 10.7 MB/s \n\u001b[?25hRequirement already satisfied: attrs>=17.4.0 in /shared-libs/python3.7/py-core/lib/python3.7/site-packages (from arsenic) (20.3.0)\nCollecting aiohttp>=2\n  Downloading aiohttp-3.7.4.post0-cp37-cp37m-manylinux2014_x86_64.whl (1.3 MB)\n\u001b[K     |████████████████████████████████| 1.3 MB 33.2 MB/s \n\u001b[?25hRequirement already satisfied: chardet<5.0,>=2.0 in /shared-libs/python3.7/py/lib/python3.7/site-packages (from aiohttp>=2->arsenic) (3.0.4)\nCollecting yarl<2.0,>=1.0\n  Downloading yarl-1.6.3-cp37-cp37m-manylinux2014_x86_64.whl (294 kB)\n\u001b[K     |████████████████████████████████| 294 kB 83.7 MB/s \n\u001b[?25hCollecting async-timeout<4.0,>=3.0\n  Downloading async_timeout-3.0.1-py3-none-any.whl (8.2 kB)\nRequirement already satisfied: typing-extensions>=3.6.5 in /shared-libs/python3.7/py-core/lib/python3.7/site-packages (from aiohttp>=2->arsenic) (3.10.0.0)\nCollecting multidict<7.0,>=4.5\n  Downloading multidict-5.1.0-cp37-cp37m-manylinux2014_x86_64.whl (142 kB)\n\u001b[K     |████████████████████████████████| 142 kB 92.0 MB/s \n\u001b[?25hRequirement already satisfied: idna>=2.0 in /shared-libs/python3.7/py/lib/python3.7/site-packages (from yarl<2.0,>=1.0->aiohttp>=2->arsenic) (2.10)\nInstalling collected packages: multidict, yarl, async-timeout, structlog, aiohttp, arsenic\nSuccessfully installed aiohttp-3.7.4.post0 arsenic-20.9 async-timeout-3.0.1 multidict-5.1.0 structlog-20.2.0 yarl-1.6.3\nCollecting requests_html\n  Downloading requests_html-0.10.0-py3-none-any.whl (13 kB)\nRequirement already satisfied: w3lib in /shared-libs/python3.7/py/lib/python3.7/site-packages (from requests_html) (1.22.0)\nCollecting fake-useragent\n  Downloading fake-useragent-0.1.11.tar.gz (13 kB)\nCollecting bs4\n  Downloading bs4-0.0.1.tar.gz (1.1 kB)\nCollecting parse\n  Downloading parse-1.19.0.tar.gz (30 kB)\nCollecting pyquery\n  Downloading pyquery-1.4.3-py3-none-any.whl (22 kB)\nCollecting pyppeteer>=0.0.14\n  Downloading pyppeteer-0.2.5-py3-none-any.whl (87 kB)\n\u001b[K     |████████████████████████████████| 87 kB 6.7 MB/s \n\u001b[?25hRequirement already satisfied: requests in /shared-libs/python3.7/py/lib/python3.7/site-packages (from requests_html) (2.25.1)\nRequirement already satisfied: urllib3<2.0.0,>=1.25.8 in /shared-libs/python3.7/py/lib/python3.7/site-packages (from pyppeteer>=0.0.14->requests_html) (1.26.4)\nRequirement already satisfied: appdirs<2.0.0,>=1.4.3 in /shared-libs/python3.7/py-core/lib/python3.7/site-packages (from pyppeteer>=0.0.14->requests_html) (1.4.4)\nCollecting pyee<9.0.0,>=8.1.0\n  Downloading pyee-8.1.0-py2.py3-none-any.whl (12 kB)\nCollecting websockets<9.0,>=8.1\n  Downloading websockets-8.1-cp37-cp37m-manylinux2010_x86_64.whl (79 kB)\n\u001b[K     |████████████████████████████████| 79 kB 10.5 MB/s \n\u001b[?25hCollecting importlib-metadata<3.0.0,>=2.1.1\n  Downloading importlib_metadata-2.1.1-py2.py3-none-any.whl (10 kB)\nRequirement already satisfied: tqdm<5.0.0,>=4.42.1 in /shared-libs/python3.7/py/lib/python3.7/site-packages (from pyppeteer>=0.0.14->requests_html) (4.60.0)\nRequirement already satisfied: zipp>=0.5 in /shared-libs/python3.7/py-core/lib/python3.7/site-packages (from importlib-metadata<3.0.0,>=2.1.1->pyppeteer>=0.0.14->requests_html) (3.4.1)\nCollecting beautifulsoup4\n  Downloading beautifulsoup4-4.9.3-py3-none-any.whl (115 kB)\n\u001b[K     |████████████████████████████████| 115 kB 89.6 MB/s \n\u001b[?25hCollecting soupsieve>1.2\n  Downloading soupsieve-2.2.1-py3-none-any.whl (33 kB)\nRequirement already satisfied: lxml>=2.1 in /shared-libs/python3.7/py/lib/python3.7/site-packages (from pyquery->requests_html) (4.6.3)\nRequirement already satisfied: cssselect>0.7.9 in /shared-libs/python3.7/py/lib/python3.7/site-packages (from pyquery->requests_html) (1.1.0)\nRequirement already satisfied: idna<3,>=2.5 in /shared-libs/python3.7/py/lib/python3.7/site-packages (from requests->requests_html) (2.10)\nRequirement already satisfied: certifi>=2017.4.17 in /shared-libs/python3.7/py/lib/python3.7/site-packages (from requests->requests_html) (2020.12.5)\nRequirement already satisfied: chardet<5,>=3.0.2 in /shared-libs/python3.7/py/lib/python3.7/site-packages (from requests->requests_html) (3.0.4)\nRequirement already satisfied: six>=1.4.1 in /shared-libs/python3.7/py-core/lib/python3.7/site-packages (from w3lib->requests_html) (1.16.0)\nBuilding wheels for collected packages: bs4, fake-useragent, parse\n  Building wheel for bs4 (setup.py) ... \u001b[?25ldone\n\u001b[?25h  Created wheel for bs4: filename=bs4-0.0.1-py3-none-any.whl size=1273 sha256=7908cb7e122c29dbd663475f1cdaf2d336dd9c036afee3d9d0a84e996eac936f\n  Stored in directory: /root/.cache/pip/wheels/0a/9e/ba/20e5bbc1afef3a491f0b3bb74d508f99403aabe76eda2167ca\n  Building wheel for fake-useragent (setup.py) ... \u001b[?25ldone\n\u001b[?25h  Created wheel for fake-useragent: filename=fake_useragent-0.1.11-py3-none-any.whl size=13486 sha256=9d7c9d20d8807dbbcc69deb770610f3c80b421361724c6428a9f3610ec5001d4\n  Stored in directory: /root/.cache/pip/wheels/ed/f7/62/50ab6c9a0b5567267ab76a9daa9d06315704209b2c5d032031\n  Building wheel for parse (setup.py) ... \u001b[?25ldone\n\u001b[?25h  Created wheel for parse: filename=parse-1.19.0-py3-none-any.whl size=24581 sha256=539cd0f2b8949aea12054e8a3a13b5aa4b22eaad5c6d3df0d6e5b1dea8658716\n  Stored in directory: /root/.cache/pip/wheels/9c/aa/cc/f2228050ccb40f22144b073f15a2c84f11204f29fc0dce028e\nSuccessfully built bs4 fake-useragent parse\nInstalling collected packages: soupsieve, websockets, pyee, importlib-metadata, beautifulsoup4, pyquery, pyppeteer, parse, fake-useragent, bs4, requests-html\n  Attempting uninstall: importlib-metadata\n    Found existing installation: importlib-metadata 4.0.1\n    Not uninstalling importlib-metadata at /shared-libs/python3.7/py-core/lib/python3.7/site-packages, outside environment /root/venv\n    Can't uninstall 'importlib-metadata'. No files were found to uninstall.\nSuccessfully installed beautifulsoup4-4.9.3 bs4-0.0.1 fake-useragent-0.1.11 importlib-metadata-2.1.1 parse-1.19.0 pyee-8.1.0 pyppeteer-0.2.5 pyquery-1.4.3 requests-html-0.10.0 soupsieve-2.2.1 websockets-8.1\n",
     "output_type": "stream"
    }
   ]
  },
  {
   "cell_type": "code",
   "metadata": {
    "tags": [],
    "deepnote_to_be_reexecuted": false,
    "source_hash": "b185e9f0",
    "execution_start": 1621665480893,
    "execution_millis": 2831,
    "cell_id": "00002-d80baa99-a3c6-4a25-9edc-b7643c785235",
    "deepnote_cell_type": "code"
   },
   "source": "!pip install chromedriver",
   "execution_count": 2,
   "outputs": [
    {
     "name": "stdout",
     "text": "Collecting chromedriver\n  Downloading chromedriver-2.24.1-py2.py3-none-any.whl (14.3 MB)\n\u001b[K     |████████████████████████████████| 14.3 MB 15.6 MB/s \n\u001b[?25hInstalling collected packages: chromedriver\nSuccessfully installed chromedriver-2.24.1\n",
     "output_type": "stream"
    }
   ]
  },
  {
   "cell_type": "code",
   "source": "pip install structlog",
   "metadata": {
    "tags": [],
    "cell_id": "00003-32e299c7-f17f-4bd3-a00f-fa7d1ea344a2",
    "deepnote_to_be_reexecuted": false,
    "source_hash": "a401b346",
    "execution_start": 1621666273313,
    "execution_millis": 3580,
    "deepnote_cell_type": "code"
   },
   "outputs": [
    {
     "name": "stdout",
     "text": "Requirement already satisfied: structlog in /root/venv/lib/python3.7/site-packages (20.2.0)\nRequirement already satisfied: typing-extensions in /shared-libs/python3.7/py-core/lib/python3.7/site-packages (from structlog) (3.10.0.0)\n\u001b[33mWARNING: Running pip as root will break packages and permissions. You should install packages reliably by using venv: https://pip.pypa.io/warnings/venv\u001b[0m\nNote: you may need to restart the kernel to use updated packages.\n",
     "output_type": "stream"
    }
   ],
   "execution_count": 3
  },
  {
   "cell_type": "code",
   "metadata": {
    "tags": [],
    "deepnote_to_be_reexecuted": false,
    "source_hash": "b83fdca9",
    "execution_start": 1621666288454,
    "execution_millis": 7,
    "cell_id": "00003-ae29310e-0327-49be-b4eb-7d2c393b2717",
    "deepnote_cell_type": "code"
   },
   "source": "%%writefile async_scrape_multiple.py\nimport os\nimport asyncio\nfrom arsenic import get_session, keys, browsers, services\nimport pandas as pd\nfrom requests_html import HTML \nimport itertools\nimport re\nimport time\nimport pathlib\nimport pickle\nimport pandas as pd\n\nimport logging\nimport structlog #pip install structlog\n\n\ndef store_links_as_df_pickle(datas=[], name='links2.pkl'):\n    new_df = pd.DataFrame(datas)\n    og_df = pd.DataFrame([{'id':0}])\n    if pathlib.Path(name).exists():\n        og_df = pd.read_pickle(name)\n    df = pd.concat([og_df, new_df])\n    df.reset_index(inplace=True, drop=False)\n    df = df[['id', 'slug', 'path', 'scraped']]\n    df = df.loc[-df.id.duplicated(keep='first')]\n    df.dropna(inplace=True)\n    df.to_pickle(name)\n    return df\n\ndef set_arsenic_log_level(level = logging.WARNING):\n    #Create logger\n    logger = logging.getLogger('arsenic')\n\n    def logger_factory():\n        return logger\n\n    structlog.configure(logger_factory=logger_factory)\n    logger.setLevel(level)\n\n\nasync def extract_id_slug(url_path):\n    regex = r\"^[^\\s]+/(?P<id>\\d+)-(?P<slug>[\\w-]+)$\"\n    group = re.match(regex, url_path)\n    if not group:\n        return None, None\n    return group['id'], group['slug']\n\nasync def get_links(body_content):\n    html_r = HTML(html=body_content)\n    fabric_links = [x for x in list(html_r.links) if x.startswith(\"/en/fabric\")]\n\n    datas = []\n    for path in fabric_links:\n        id_, slug_ = await extract_id_slug(path)\n        data = {\n            'id': id_,\n            'slug': slug_,\n            'path': path,\n            'scraped': 0\n        }\n        datas.append(data)\n    return datas\n\nasync def scraper(url, i=-1, timeout=60, start=None):\n    service = services.Chromedriver()\n    browser = browsers.Chrome()\n    browser.capabilities = {\n        \"goog:chromeOptions\": {\"args\": [\"--headless\", \"--disable-gpu\", \"--no-sandbox\", \"--disable-dev-shm-usage\"]}\n    }\n    async with get_session(service, browser) as session:\n        try:\n            await asyncio.wait_for(session.get(url), timeout=timeout)\n        except asyncio.TimeoutError:\n            return []\n        body = await session.get_page_source()\n        links = await get_links(body)\n        if start != None:\n            end = time.time() - start\n            print(f'{i} took {end} seconds')\n        # print(body)\n        return links\n\nasync def run(urls, timeout=60, start=None):\n    results = []\n    for i, url in enumerate(urls):\n        results.append(\n            asyncio.create_task(scraper(url, i=i, timeout=60, start=start))\n        )\n    list_of_links = await asyncio.gather(*results)\n    return list_of_links\n\nif __name__ == \"__main__\":\n    set_arsenic_log_level()\n    start = time.time()\n    urls = [\n        'https://www.spoonflower.com/en/shop?on=fabric',\n        'https://www.spoonflower.com/en/fabric/6444170-catching-fireflies-by-thestorysmith'\n    ]\n    name = 'link2.pkl'\n    results = asyncio.run(run(urls, start=start))\n    print(len(results))\n    end = time.time() - start\n    print(f'total time is: {end}')\n\n    # loop = asyncio.get_event_loop()\n    # result = loop.run_until_complete(scraper(url))\n    # df = asyncio.run(run(url))\n    # print(df.head())",
   "execution_count": 4,
   "outputs": [
    {
     "name": "stdout",
     "text": "Overwriting async_scrape_multiple.py\n",
     "output_type": "stream"
    }
   ]
  },
  {
   "cell_type": "code",
   "metadata": {
    "tags": [],
    "deepnote_to_be_reexecuted": false,
    "source_hash": "49b711a8",
    "execution_start": 1621666292151,
    "execution_millis": 8115,
    "cell_id": "00004-fda97fec-1ef5-47f5-9bf1-35bd0c498768",
    "deepnote_cell_type": "code"
   },
   "source": "!python async_scrape_multiple.py",
   "execution_count": 5,
   "outputs": [
    {
     "name": "stdout",
     "text": "Starting ChromeDriver 90.0.4430.212 (e3cd97fc771b893b7fd1879196d1215b622c2bed-refs/branch-heads/4430@{#1429}) on port 35815\nOnly local connections are allowed.\nPlease see https://chromedriver.chromium.org/security-considerations for suggestions on keeping ChromeDriver safe.\n[1621666293.641][SEVERE]: bind() failed: Cannot assign requested address (99)\nChromeDriver was started successfully.\nStarting ChromeDriver 90.0.4430.212 (e3cd97fc771b893b7fd1879196d1215b622c2bed-refs/branch-heads/4430@{#1429}) on port 44285\nOnly local connections are allowed.\nPlease see https://chromedriver.chromium.org/security-considerations for suggestions on keeping ChromeDriver safe.\n[1621666293.643][SEVERE]: bind() failed: Cannot assign requested address (99)\nChromeDriver was started successfully.\n1 took 5.170779228210449 seconds\n0 took 6.390865802764893 seconds\n2\ntotal time is: 6.457573890686035\n",
     "output_type": "stream"
    }
   ]
  },
  {
   "cell_type": "code",
   "metadata": {
    "tags": [],
    "deepnote_to_be_reexecuted": false,
    "source_hash": "79277d8f",
    "execution_start": 1621430499242,
    "execution_millis": 4,
    "cell_id": "00005-14b50a48-da2b-47fe-836e-79538e5635a4",
    "deepnote_cell_type": "code"
   },
   "source": "import pandas as pd\nname = 'links.pkl'\ndf = pd.read_pickle(name)\ndf.head()",
   "execution_count": null,
   "outputs": [
    {
     "output_type": "execute_result",
     "execution_count": 28,
     "data": {
      "application/vnd.deepnote.dataframe.v2+json": {
       "row_count": 5,
       "column_count": 3,
       "columns": [
        {
         "name": "slug",
         "dtype": "object",
         "stats": {
          "unique_count": 5,
          "nan_count": 0,
          "categories": [
           {
            "name": "golden-girls-faces-small-teal-by-chica_and_jo",
            "count": 1
           },
           {
            "name": "art-deco-cranes-by-katerhees",
            "count": 1
           },
           {
            "name": "3 others",
            "count": 3
           }
          ]
         }
        },
        {
         "name": "path",
         "dtype": "object",
         "stats": {
          "unique_count": 5,
          "nan_count": 0,
          "categories": [
           {
            "name": "/en/fabric/10307245-golden-girls-faces-small-teal-by-chica_and_jo",
            "count": 1
           },
           {
            "name": "/en/fabric/7872207-art-deco-cranes-by-katerhees",
            "count": 1
           },
           {
            "name": "3 others",
            "count": 3
           }
          ]
         }
        },
        {
         "name": "scraped",
         "dtype": "int64",
         "stats": {
          "unique_count": 1,
          "nan_count": 0,
          "min": "0",
          "max": "0",
          "histogram": [
           {
            "bin_start": -0.5,
            "bin_end": -0.4,
            "count": 0
           },
           {
            "bin_start": -0.4,
            "bin_end": -0.3,
            "count": 0
           },
           {
            "bin_start": -0.3,
            "bin_end": -0.19999999999999996,
            "count": 0
           },
           {
            "bin_start": -0.19999999999999996,
            "bin_end": -0.09999999999999998,
            "count": 0
           },
           {
            "bin_start": -0.09999999999999998,
            "bin_end": 0,
            "count": 0
           },
           {
            "bin_start": 0,
            "bin_end": 0.10000000000000009,
            "count": 5
           },
           {
            "bin_start": 0.10000000000000009,
            "bin_end": 0.20000000000000007,
            "count": 0
           },
           {
            "bin_start": 0.20000000000000007,
            "bin_end": 0.30000000000000004,
            "count": 0
           },
           {
            "bin_start": 0.30000000000000004,
            "bin_end": 0.4,
            "count": 0
           },
           {
            "bin_start": 0.4,
            "bin_end": 0.5,
            "count": 0
           }
          ]
         }
        },
        {
         "name": "_deepnote_index_column",
         "dtype": "object"
        }
       ],
       "rows_top": [
        {
         "slug": "golden-girls-faces-small-teal-by-chica_and_jo",
         "path": "/en/fabric/10307245-golden-girls-faces-small-teal-by-chica_and_jo",
         "scraped": 0,
         "_deepnote_index_column": "10307245"
        },
        {
         "slug": "art-deco-cranes-by-katerhees",
         "path": "/en/fabric/7872207-art-deco-cranes-by-katerhees",
         "scraped": 0,
         "_deepnote_index_column": "7872207"
        },
        {
         "slug": "william-morris-pimpernel-original-on-black-by-peacoquettedesigns",
         "path": "/en/fabric/3730688-william-morris-pimpernel-original-on-black-by-peacoquettedesigns",
         "scraped": 0,
         "_deepnote_index_column": "3730688"
        },
        {
         "slug": "hearts-on-grey-linen-valentines-day-by-littlearrowdesign",
         "path": "/en/fabric/5964319-hearts-on-grey-linen-valentines-day-by-littlearrowdesign",
         "scraped": 0,
         "_deepnote_index_column": "5964319"
        },
        {
         "slug": "dark-floral-black-roses-on-black-moody-floral-jumbo-size-by-mlags",
         "path": "/en/fabric/8091225-dark-floral-black-roses-on-black-moody-floral-jumbo-size-by-mlags",
         "scraped": 0,
         "_deepnote_index_column": "8091225"
        }
       ],
       "rows_bottom": null
      },
      "text/plain": "                                                       slug  \\\nid                                                            \n10307245      golden-girls-faces-small-teal-by-chica_and_jo   \n7872207                        art-deco-cranes-by-katerhees   \n3730688   william-morris-pimpernel-original-on-black-by-...   \n5964319   hearts-on-grey-linen-valentines-day-by-littlea...   \n8091225   dark-floral-black-roses-on-black-moody-floral-...   \n\n                                                       path  scraped  \nid                                                                    \n10307245  /en/fabric/10307245-golden-girls-faces-small-t...        0  \n7872207     /en/fabric/7872207-art-deco-cranes-by-katerhees        0  \n3730688   /en/fabric/3730688-william-morris-pimpernel-or...        0  \n5964319   /en/fabric/5964319-hearts-on-grey-linen-valent...        0  \n8091225   /en/fabric/8091225-dark-floral-black-roses-on-...        0  ",
      "text/html": "<div>\n<style scoped>\n    .dataframe tbody tr th:only-of-type {\n        vertical-align: middle;\n    }\n\n    .dataframe tbody tr th {\n        vertical-align: top;\n    }\n\n    .dataframe thead th {\n        text-align: right;\n    }\n</style>\n<table border=\"1\" class=\"dataframe\">\n  <thead>\n    <tr style=\"text-align: right;\">\n      <th></th>\n      <th>slug</th>\n      <th>path</th>\n      <th>scraped</th>\n    </tr>\n    <tr>\n      <th>id</th>\n      <th></th>\n      <th></th>\n      <th></th>\n    </tr>\n  </thead>\n  <tbody>\n    <tr>\n      <th>10307245</th>\n      <td>golden-girls-faces-small-teal-by-chica_and_jo</td>\n      <td>/en/fabric/10307245-golden-girls-faces-small-t...</td>\n      <td>0</td>\n    </tr>\n    <tr>\n      <th>7872207</th>\n      <td>art-deco-cranes-by-katerhees</td>\n      <td>/en/fabric/7872207-art-deco-cranes-by-katerhees</td>\n      <td>0</td>\n    </tr>\n    <tr>\n      <th>3730688</th>\n      <td>william-morris-pimpernel-original-on-black-by-...</td>\n      <td>/en/fabric/3730688-william-morris-pimpernel-or...</td>\n      <td>0</td>\n    </tr>\n    <tr>\n      <th>5964319</th>\n      <td>hearts-on-grey-linen-valentines-day-by-littlea...</td>\n      <td>/en/fabric/5964319-hearts-on-grey-linen-valent...</td>\n      <td>0</td>\n    </tr>\n    <tr>\n      <th>8091225</th>\n      <td>dark-floral-black-roses-on-black-moody-floral-...</td>\n      <td>/en/fabric/8091225-dark-floral-black-roses-on-...</td>\n      <td>0</td>\n    </tr>\n  </tbody>\n</table>\n</div>"
     },
     "metadata": {}
    }
   ]
  },
  {
   "cell_type": "markdown",
   "source": "<a style='text-decoration:none;line-height:16px;display:flex;color:#5B5B62;padding:10px;justify-content:end;' href='https://deepnote.com?utm_source=created-in-deepnote-cell&projectId=455dbd66-b743-41fb-bb10-e0d89ff02cc3' target=\"_blank\">\n<img alt='Created in deepnote.com' style='display:inline;max-height:16px;margin:0px;margin-right:7.5px;' src='data:image/svg+xml;base64,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' > </img>\nCreated in <span style='font-weight:600;margin-left:4px;'>Deepnote</span></a>",
   "metadata": {
    "tags": [],
    "created_in_deepnote_cell": true,
    "deepnote_cell_type": "markdown"
   }
  }
 ],
 "nbformat": 4,
 "nbformat_minor": 2,
 "metadata": {
  "orig_nbformat": 2,
  "deepnote": {
   "is_reactive": false
  },
  "deepnote_notebook_id": "df02d435-6819-452e-88b4-073d43b63ffb",
  "deepnote_execution_queue": []
 }
}