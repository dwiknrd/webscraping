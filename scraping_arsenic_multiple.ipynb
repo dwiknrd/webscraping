{
 "cells": [
  {
   "cell_type": "markdown",
   "source": "# ",
   "metadata": {
    "tags": [],
    "cell_id": "00000-91afe4e2-8aaf-47ef-8b79-d8525d47e548",
    "deepnote_cell_type": "text-cell-h1"
   }
  },
  {
   "cell_type": "code",
   "metadata": {
    "tags": [],
    "deepnote_to_be_reexecuted": false,
    "source_hash": "b83fdca9",
    "execution_start": 1621666288454,
    "execution_millis": 7,
    "cell_id": "00003-ae29310e-0327-49be-b4eb-7d2c393b2717",
    "deepnote_cell_type": "code"
   },
   "source": "%%writefile async_scrape_multiple.py\nimport os\nimport asyncio\nfrom arsenic import get_session, keys, browsers, services\nimport pandas as pd\nfrom requests_html import HTML \nimport itertools\nimport re\nimport time\nimport pathlib\nimport pickle\nimport pandas as pd\n\nimport logging\nimport structlog #pip install structlog\n\n\ndef store_links_as_df_pickle(datas=[], name='links2.pkl'):\n    new_df = pd.DataFrame(datas)\n    og_df = pd.DataFrame([{'id':0}])\n    if pathlib.Path(name).exists():\n        og_df = pd.read_pickle(name)\n    df = pd.concat([og_df, new_df])\n    df.reset_index(inplace=True, drop=False)\n    df = df[['id', 'slug', 'path', 'scraped']]\n    df = df.loc[-df.id.duplicated(keep='first')]\n    df.dropna(inplace=True)\n    df.to_pickle(name)\n    return df\n\ndef set_arsenic_log_level(level = logging.WARNING):\n    #Create logger\n    logger = logging.getLogger('arsenic')\n\n    def logger_factory():\n        return logger\n\n    structlog.configure(logger_factory=logger_factory)\n    logger.setLevel(level)\n\n\nasync def extract_id_slug(url_path):\n    regex = r\"^[^\\s]+/(?P<id>\\d+)-(?P<slug>[\\w-]+)$\"\n    group = re.match(regex, url_path)\n    if not group:\n        return None, None\n    return group['id'], group['slug']\n\nasync def get_links(body_content):\n    html_r = HTML(html=body_content)\n    fabric_links = [x for x in list(html_r.links) if x.startswith(\"/en/fabric\")]\n\n    datas = []\n    for path in fabric_links:\n        id_, slug_ = await extract_id_slug(path)\n        data = {\n            'id': id_,\n            'slug': slug_,\n            'path': path,\n            'scraped': 0\n        }\n        datas.append(data)\n    return datas\n\nasync def scraper(url, i=-1, timeout=60, start=None):\n    service = services.Chromedriver()\n    browser = browsers.Chrome()\n    browser.capabilities = {\n        \"goog:chromeOptions\": {\"args\": [\"--headless\", \"--disable-gpu\", \"--no-sandbox\", \"--disable-dev-shm-usage\"]}\n    }\n    async with get_session(service, browser) as session:\n        try:\n            await asyncio.wait_for(session.get(url), timeout=timeout)\n        except asyncio.TimeoutError:\n            return []\n        body = await session.get_page_source()\n        links = await get_links(body)\n        if start != None:\n            end = time.time() - start\n            print(f'{i} took {end} seconds')\n        # print(body)\n        return links\n\nasync def run(urls, timeout=60, start=None):\n    results = []\n    for i, url in enumerate(urls):\n        results.append(\n            asyncio.create_task(scraper(url, i=i, timeout=60, start=start))\n        )\n    list_of_links = await asyncio.gather(*results)\n    return list_of_links\n\nif __name__ == \"__main__\":\n    set_arsenic_log_level()\n    start = time.time()\n    urls = [\n        'https://www.spoonflower.com/en/shop?on=fabric',\n        'https://www.spoonflower.com/en/fabric/6444170-catching-fireflies-by-thestorysmith'\n    ]\n    name = 'link2.pkl'\n    results = asyncio.run(run(urls, start=start))\n    print(len(results))\n    end = time.time() - start\n    print(f'total time is: {end}')\n\n    # loop = asyncio.get_event_loop()\n    # result = loop.run_until_complete(scraper(url))\n    # df = asyncio.run(run(url))\n    # print(df.head())",
   "execution_count": null,
   "outputs": [
    {
     "name": "stdout",
     "text": "Overwriting async_scrape_multiple.py\n",
     "output_type": "stream"
    }
   ]
  },
  {
   "cell_type": "code",
   "metadata": {
    "tags": [],
    "deepnote_to_be_reexecuted": false,
    "source_hash": "49b711a8",
    "execution_start": 1621666292151,
    "execution_millis": 8115,
    "cell_id": "00004-fda97fec-1ef5-47f5-9bf1-35bd0c498768",
    "deepnote_cell_type": "code"
   },
   "source": "!python async_scrape_multiple.py",
   "execution_count": null,
   "outputs": [
    {
     "name": "stdout",
     "text": "Starting ChromeDriver 90.0.4430.212 (e3cd97fc771b893b7fd1879196d1215b622c2bed-refs/branch-heads/4430@{#1429}) on port 35815\nOnly local connections are allowed.\nPlease see https://chromedriver.chromium.org/security-considerations for suggestions on keeping ChromeDriver safe.\n[1621666293.641][SEVERE]: bind() failed: Cannot assign requested address (99)\nChromeDriver was started successfully.\nStarting ChromeDriver 90.0.4430.212 (e3cd97fc771b893b7fd1879196d1215b622c2bed-refs/branch-heads/4430@{#1429}) on port 44285\nOnly local connections are allowed.\nPlease see https://chromedriver.chromium.org/security-considerations for suggestions on keeping ChromeDriver safe.\n[1621666293.643][SEVERE]: bind() failed: Cannot assign requested address (99)\nChromeDriver was started successfully.\n1 took 5.170779228210449 seconds\n0 took 6.390865802764893 seconds\n2\ntotal time is: 6.457573890686035\n",
     "output_type": "stream"
    }
   ]
  },
  {
   "cell_type": "code",
   "metadata": {
    "tags": [],
    "deepnote_to_be_reexecuted": false,
    "source_hash": "79277d8f",
    "execution_start": 1621430499242,
    "execution_millis": 4,
    "cell_id": "00005-14b50a48-da2b-47fe-836e-79538e5635a4",
    "deepnote_cell_type": "code"
   },
   "source": "import pandas as pd\nname = 'links.pkl'\ndf = pd.read_pickle(name)\ndf.head()",
   "execution_count": null,
   "outputs": [
    {
     "output_type": "execute_result",
     "execution_count": 28,
     "data": {
      "application/vnd.deepnote.dataframe.v2+json": {
       "row_count": 5,
       "column_count": 3,
       "columns": [
        {
         "name": "slug",
         "dtype": "object",
         "stats": {
          "unique_count": 5,
          "nan_count": 0,
          "categories": [
           {
            "name": "golden-girls-faces-small-teal-by-chica_and_jo",
            "count": 1
           },
           {
            "name": "art-deco-cranes-by-katerhees",
            "count": 1
           },
           {
            "name": "3 others",
            "count": 3
           }
          ]
         }
        },
        {
         "name": "path",
         "dtype": "object",
         "stats": {
          "unique_count": 5,
          "nan_count": 0,
          "categories": [
           {
            "name": "/en/fabric/10307245-golden-girls-faces-small-teal-by-chica_and_jo",
            "count": 1
           },
           {
            "name": "/en/fabric/7872207-art-deco-cranes-by-katerhees",
            "count": 1
           },
           {
            "name": "3 others",
            "count": 3
           }
          ]
         }
        },
        {
         "name": "scraped",
         "dtype": "int64",
         "stats": {
          "unique_count": 1,
          "nan_count": 0,
          "min": "0",
          "max": "0",
          "histogram": [
           {
            "bin_start": -0.5,
            "bin_end": -0.4,
            "count": 0
           },
           {
            "bin_start": -0.4,
            "bin_end": -0.3,
            "count": 0
           },
           {
            "bin_start": -0.3,
            "bin_end": -0.19999999999999996,
            "count": 0
           },
           {
            "bin_start": -0.19999999999999996,
            "bin_end": -0.09999999999999998,
            "count": 0
           },
           {
            "bin_start": -0.09999999999999998,
            "bin_end": 0,
            "count": 0
           },
           {
            "bin_start": 0,
            "bin_end": 0.10000000000000009,
            "count": 5
           },
           {
            "bin_start": 0.10000000000000009,
            "bin_end": 0.20000000000000007,
            "count": 0
           },
           {
            "bin_start": 0.20000000000000007,
            "bin_end": 0.30000000000000004,
            "count": 0
           },
           {
            "bin_start": 0.30000000000000004,
            "bin_end": 0.4,
            "count": 0
           },
           {
            "bin_start": 0.4,
            "bin_end": 0.5,
            "count": 0
           }
          ]
         }
        },
        {
         "name": "_deepnote_index_column",
         "dtype": "object"
        }
       ],
       "rows_top": [
        {
         "slug": "golden-girls-faces-small-teal-by-chica_and_jo",
         "path": "/en/fabric/10307245-golden-girls-faces-small-teal-by-chica_and_jo",
         "scraped": 0,
         "_deepnote_index_column": "10307245"
        },
        {
         "slug": "art-deco-cranes-by-katerhees",
         "path": "/en/fabric/7872207-art-deco-cranes-by-katerhees",
         "scraped": 0,
         "_deepnote_index_column": "7872207"
        },
        {
         "slug": "william-morris-pimpernel-original-on-black-by-peacoquettedesigns",
         "path": "/en/fabric/3730688-william-morris-pimpernel-original-on-black-by-peacoquettedesigns",
         "scraped": 0,
         "_deepnote_index_column": "3730688"
        },
        {
         "slug": "hearts-on-grey-linen-valentines-day-by-littlearrowdesign",
         "path": "/en/fabric/5964319-hearts-on-grey-linen-valentines-day-by-littlearrowdesign",
         "scraped": 0,
         "_deepnote_index_column": "5964319"
        },
        {
         "slug": "dark-floral-black-roses-on-black-moody-floral-jumbo-size-by-mlags",
         "path": "/en/fabric/8091225-dark-floral-black-roses-on-black-moody-floral-jumbo-size-by-mlags",
         "scraped": 0,
         "_deepnote_index_column": "8091225"
        }
       ],
       "rows_bottom": null
      },
      "text/plain": "                                                       slug  \\\nid                                                            \n10307245      golden-girls-faces-small-teal-by-chica_and_jo   \n7872207                        art-deco-cranes-by-katerhees   \n3730688   william-morris-pimpernel-original-on-black-by-...   \n5964319   hearts-on-grey-linen-valentines-day-by-littlea...   \n8091225   dark-floral-black-roses-on-black-moody-floral-...   \n\n                                                       path  scraped  \nid                                                                    \n10307245  /en/fabric/10307245-golden-girls-faces-small-t...        0  \n7872207     /en/fabric/7872207-art-deco-cranes-by-katerhees        0  \n3730688   /en/fabric/3730688-william-morris-pimpernel-or...        0  \n5964319   /en/fabric/5964319-hearts-on-grey-linen-valent...        0  \n8091225   /en/fabric/8091225-dark-floral-black-roses-on-...        0  ",
      "text/html": "<div>\n<style scoped>\n    .dataframe tbody tr th:only-of-type {\n        vertical-align: middle;\n    }\n\n    .dataframe tbody tr th {\n        vertical-align: top;\n    }\n\n    .dataframe thead th {\n        text-align: right;\n    }\n</style>\n<table border=\"1\" class=\"dataframe\">\n  <thead>\n    <tr style=\"text-align: right;\">\n      <th></th>\n      <th>slug</th>\n      <th>path</th>\n      <th>scraped</th>\n    </tr>\n    <tr>\n      <th>id</th>\n      <th></th>\n      <th></th>\n      <th></th>\n    </tr>\n  </thead>\n  <tbody>\n    <tr>\n      <th>10307245</th>\n      <td>golden-girls-faces-small-teal-by-chica_and_jo</td>\n      <td>/en/fabric/10307245-golden-girls-faces-small-t...</td>\n      <td>0</td>\n    </tr>\n    <tr>\n      <th>7872207</th>\n      <td>art-deco-cranes-by-katerhees</td>\n      <td>/en/fabric/7872207-art-deco-cranes-by-katerhees</td>\n      <td>0</td>\n    </tr>\n    <tr>\n      <th>3730688</th>\n      <td>william-morris-pimpernel-original-on-black-by-...</td>\n      <td>/en/fabric/3730688-william-morris-pimpernel-or...</td>\n      <td>0</td>\n    </tr>\n    <tr>\n      <th>5964319</th>\n      <td>hearts-on-grey-linen-valentines-day-by-littlea...</td>\n      <td>/en/fabric/5964319-hearts-on-grey-linen-valent...</td>\n      <td>0</td>\n    </tr>\n    <tr>\n      <th>8091225</th>\n      <td>dark-floral-black-roses-on-black-moody-floral-...</td>\n      <td>/en/fabric/8091225-dark-floral-black-roses-on-...</td>\n      <td>0</td>\n    </tr>\n  </tbody>\n</table>\n</div>"
     },
     "metadata": {}
    }
   ]
  },
  {
   "cell_type": "markdown",
   "source": "<a style='text-decoration:none;line-height:16px;display:flex;color:#5B5B62;padding:10px;justify-content:end;' href='https://deepnote.com?utm_source=created-in-deepnote-cell&projectId=455dbd66-b743-41fb-bb10-e0d89ff02cc3' target=\"_blank\">\n<img alt='Created in deepnote.com' style='display:inline;max-height:16px;margin:0px;margin-right:7.5px;' src='data:image/svg+xml;base64,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' > </img>\nCreated in <span style='font-weight:600;margin-left:4px;'>Deepnote</span></a>",
   "metadata": {
    "tags": [],
    "created_in_deepnote_cell": true,
    "deepnote_cell_type": "markdown"
   }
  }
 ],
 "nbformat": 4,
 "nbformat_minor": 2,
 "metadata": {
  "orig_nbformat": 2,
  "deepnote": {
   "is_reactive": false
  },
  "deepnote_notebook_id": "df02d435-6819-452e-88b4-073d43b63ffb",
  "deepnote_execution_queue": []
 }
}