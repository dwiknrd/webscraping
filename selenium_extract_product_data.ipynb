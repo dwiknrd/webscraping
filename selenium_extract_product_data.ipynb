{
 "cells": [
  {
   "cell_type": "markdown",
   "source": "# ",
   "metadata": {
    "tags": [],
    "cell_id": "00000-af899f3d-ebe6-45d6-817b-946b32742010",
    "deepnote_cell_type": "text-cell-h1"
   }
  },
  {
   "cell_type": "code",
   "metadata": {
    "tags": [],
    "deepnote_to_be_reexecuted": false,
    "source_hash": "7c37e9f5",
    "execution_start": 1621686267098,
    "execution_millis": 212,
    "cell_id": "00004-938eaa72-4e71-4131-8709-6c502007afbb",
    "deepnote_cell_type": "code"
   },
   "source": "import re\nimport requests\nfrom requests_html import HTML\nimport pandas as pd\nfrom urllib.parse import urlparse\nimport time\n\nfrom selenium import webdriver\nfrom selenium.webdriver.chrome.options import Options",
   "execution_count": null,
   "outputs": []
  },
  {
   "cell_type": "code",
   "metadata": {
    "tags": [],
    "deepnote_to_be_reexecuted": false,
    "source_hash": "ca2d4386",
    "execution_start": 1621686269525,
    "execution_millis": 2,
    "cell_id": "00005-13e90277-6c10-40c5-abf0-924db5f34fc8",
    "deepnote_cell_type": "code"
   },
   "source": "def scraper(url):\n    options = Options()\n    options.add_argument('--headless')\n    options.add_argument('--no-sandbox')\n    options.add_argument('--disable-dev-shm-usage')\n    driver = webdriver.Chrome(options=options)\n    driver.get(url)\n    time.sleep(5)\n    return driver.page_source\n\ndef extract_id_slug(url_path):\n    path = url_path\n    if path.startswith('http'):\n        parsed_url = urlparse(path)\n        path = parsed_url.path\n    regex = r\"^[^\\s]+/(?P<id>\\d+)-(?P<slug>[\\w-]+)$\"\n    group = re.match(regex, url_path)\n    if not group:\n        return None, None, path\n    return group['id'], group['slug'], path",
   "execution_count": null,
   "outputs": []
  },
  {
   "cell_type": "code",
   "metadata": {
    "tags": [],
    "cell_id": "00005-6b227b03-9717-4ce3-969f-1cda189c92c7",
    "deepnote_to_be_reexecuted": false,
    "source_hash": "fa51a441",
    "execution_start": 1621686271661,
    "execution_millis": 8899,
    "deepnote_cell_type": "code"
   },
   "source": "url = 'https://www.spoonflower.com/en/fabric/6444170-catching-fireflies-by-thestorysmith'\n\nhtml_str = scraper(url)\ncontent = HTML(html=html_str)",
   "execution_count": null,
   "outputs": []
  },
  {
   "cell_type": "code",
   "metadata": {
    "tags": [],
    "cell_id": "00006-b9718487-52c8-4e2f-bdca-e61de5830831",
    "deepnote_to_be_reexecuted": false,
    "source_hash": "73f6f0ad",
    "execution_start": 1621686282539,
    "execution_millis": 4,
    "deepnote_cell_type": "code"
   },
   "source": "def get_product_data(url, content):\n    id_, slug_, path = extract_id_slug(url)\n\n    data = {\n        'id': id_,\n        'slug': slug_,\n        'path': path,\n    }\n\n    #parse title\n    titleEl = content.find('.design-title', first=True)\n    title = None\n    if titleEl == None:\n        return data\n    title = titleEl.text\n    data['title'] = title\n\n    #parse size\n    sizeEl = content.find('#fabric-size', first = True)\n    size = None\n    if sizeEl != None:\n        size = sizeEl.text\n    data['size'] = size\n\n    return data",
   "execution_count": null,
   "outputs": []
  },
  {
   "cell_type": "code",
   "metadata": {
    "tags": [],
    "cell_id": "00007-55afaaf5-a6ef-41da-a33c-be254d6b8432",
    "deepnote_to_be_reexecuted": false,
    "source_hash": "1ad0c875",
    "execution_start": 1621686285822,
    "execution_millis": 101,
    "deepnote_cell_type": "code"
   },
   "source": "get_product_data(url, content)",
   "execution_count": null,
   "outputs": [
    {
     "output_type": "execute_result",
     "execution_count": 5,
     "data": {
      "text/plain": "{'id': '6444170',\n 'slug': 'catching-fireflies-by-thestorysmith',\n 'path': '/en/fabric/6444170-catching-fireflies-by-thestorysmith',\n 'title': 'Catching Fireflies',\n 'size': 'Fat Quarter 21\" x 18\"'}"
     },
     "metadata": {}
    }
   ]
  },
  {
   "cell_type": "code",
   "metadata": {
    "tags": [],
    "cell_id": "00008-249608c2-b6da-4f4d-a91b-e7086774bdae",
    "deepnote_cell_type": "code"
   },
   "source": "url2 = 'https://www.spoonflower.com/en/fabric/6444170-catching-fireflies-by-thestorysmith'\n\nhtml_str = scraper(url)\ncontent = HTML(html=html_str)",
   "execution_count": null,
   "outputs": []
  },
  {
   "cell_type": "markdown",
   "source": "<a style='text-decoration:none;line-height:16px;display:flex;color:#5B5B62;padding:10px;justify-content:end;' href='https://deepnote.com?utm_source=created-in-deepnote-cell&projectId=455dbd66-b743-41fb-bb10-e0d89ff02cc3' target=\"_blank\">\n<img alt='Created in deepnote.com' style='display:inline;max-height:16px;margin:0px;margin-right:7.5px;' src='data:image/svg+xml;base64,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' > </img>\nCreated in <span style='font-weight:600;margin-left:4px;'>Deepnote</span></a>",
   "metadata": {
    "tags": [],
    "created_in_deepnote_cell": true,
    "deepnote_cell_type": "markdown"
   }
  }
 ],
 "nbformat": 4,
 "nbformat_minor": 2,
 "metadata": {
  "orig_nbformat": 2,
  "deepnote": {
   "is_reactive": false
  },
  "deepnote_notebook_id": "64abb70b-f4b9-4147-9776-f4916294c75b",
  "deepnote_execution_queue": []
 }
}