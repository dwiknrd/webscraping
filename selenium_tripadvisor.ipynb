{
 "cells": [
  {
   "cell_type": "code",
   "metadata": {
    "tags": [],
    "cell_id": "00001-fd684b08-c7f7-48db-82ce-27727e982a4f",
    "deepnote_to_be_reexecuted": false,
    "source_hash": "e9dcf8f",
    "execution_start": 1621838367345,
    "execution_millis": 23486,
    "deepnote_cell_type": "code"
   },
   "source": "import sys\nimport csv #This package lets us save data to a csv file\nfrom selenium import webdriver #The Selenium package we'll need\nimport time\nfrom selenium.webdriver.chrome.options import Options\n\n# default path to file to store data\npath_to_file = \"universal_studio_florida1.csv\"\n\n# default number of scraped pages\nnum_page = 3\n\n# default tripadvisor website\nurl = 'https://www.tripadvisor.com/Attraction_Review-g34515-d102432-Reviews-Universal_Studios_Florida-Orlando_Florida.html'\n\n# if you pass the inputs in the command line\nif (len(sys.argv) == 4):\n    path_to_file = sys.argv[1]\n    num_page = int(sys.argv[2])\n    url = sys.argv[3]\n\n# Import the webdriver\noptions = Options()\noptions.add_argument('--headless')\noptions.add_argument('--no-sandbox')\noptions.add_argument('--disable-dev-shm-usage')\ndriver = webdriver.Chrome(options=options)\ndriver.get(url)\n\n# Open the file to save the review\ncsvFile = open(path_to_file, 'a', encoding=\"utf-8\")\ncsvWriter = csv.writer(csvFile)\nprint('disini')\n\n# change the value inside the range to save more or less reviews\nfor i in range(0, num_page):\n    \n    # expand the review \n    time.sleep(5)\n    element = driver.find_element_by_xpath(\"(//span[contains(@class, 'DrjyGw-P _1l3JzGX1')])\")\n    driver.execute_script(\"arguments[0].click();\", element)\n\n    print('disini2')\n\n    first_container = driver.find_element_by_xpath(\".//div[@class='_1c8_1ITO']\")\n    container = first_container.find_elements_by_xpath(\"./*\")\n\n    # print(container[10].get_attribute('innerHTML'))\n    # print(len(container))\n\n    for j in range(len(container)-1):\n        print(f'halaman ke-{i+1}, container ke-{j}')\n        reviewer = container[j].find_element_by_xpath(\".//a[@class='_7c6GgQ6n _37QDe3gr WullykOU _3WoyIIcL']\").text\n        # visit_date = container[j].find_element_by_xpath(\".//div[@class='_3JxPDYSx']\").text\n        rating = container[j].find_element_by_class_name('zWXXYhVR').get_attribute(\"title\").split(\" \")[0]\n        written_date = container[j].find_element_by_xpath(\".//div[contains(@class, 'DrjyGw-P _26S7gyB4 _1z-B2F-n _1dimhEoy')]\").text.replace(\"Written\", \"\")\n        # reviewer_location = container[j].find_element_by_xpath(\".//div[@class='DrjyGw-P _26S7gyB4 NGv7A1lw _2yS548m8 _2cnjB3re _1TAWSgm1 _1Z1zA2gh _2-K8UW3T _1dimhEoy']\").text\n        title = container[j].find_element_by_xpath(\".//span[@class='_2tsgCuqy']\").text\n        text_review = container[j].find_element_by_xpath(\".//div[@class='DrjyGw-P _26S7gyB4 _2nPM5Opx']\")\n        review_text = text_review.find_element_by_xpath(\".//span[@class='_2tsgCuqy']\").text.replace(\"\\n\", \" \")\n        branch = \"Universal Studios Florida\"\n\n        print(title)\n        \n        csvWriter.writerow([reviewer,\n                            rating,\n                            written_date,\n                            title,\n                            review_text,\n                            branch])\n\n    #change the page\n    change_page_element = driver.find_element_by_xpath('//a[@class=\"_23XJjgWS _1hF7hP_9 _2QvUxWyA\"]')\n    driver.execute_script(\"arguments[0].click();\", change_page_element)\n\n\ndriver.close()",
   "execution_count": 5,
   "outputs": [
    {
     "name": "stdout",
     "text": "disini\ndisini2\nhalaman ke-1, container ke-0\nStay at one of 3 resorts that offer EXPRESS PASSES\nhalaman ke-1, container ke-1\nDespite the Circumstances\nhalaman ke-1, container ke-2\nAWFUL\nhalaman ke-1, container ke-3\nOver priced\nhalaman ke-1, container ke-4\nDon’t buy a package with one of their partner hotels!\nhalaman ke-1, container ke-5\nrides close often\nhalaman ke-1, container ke-6\nMoney Money money, it’s. Rich mNs world\nhalaman ke-1, container ke-7\nUniversal Florida\nhalaman ke-1, container ke-8\nFrom bad to worse as time goes by.\nhalaman ke-1, container ke-9\nThere's Disney...then THERES UNIVERSAL ORLANDO\ndisini2\nhalaman ke-2, container ke-0\nConsistently Magical\nhalaman ke-2, container ke-1\nAfter 9 movies how did Fast & Furious miss the mark\nhalaman ke-2, container ke-2\nFantastic visit\nhalaman ke-2, container ke-3\nHarry Potter World was especially great\nhalaman ke-2, container ke-4\nFun rides but poor customer service!\nhalaman ke-2, container ke-5\nDisney is so much better than Universal!\nhalaman ke-2, container ke-6\nOur first trip to Universal was outstanding!!\nhalaman ke-2, container ke-7\nGreat Parks and Fair Value\nhalaman ke-2, container ke-8\nOverpriced\nhalaman ke-2, container ke-9\nDisappointing\ndisini2\nhalaman ke-3, container ke-0\nStay at one of 3 resorts that offer EXPRESS PASSES\nhalaman ke-3, container ke-1\nDespite the Circumstances\nhalaman ke-3, container ke-2\nAWFUL\nhalaman ke-3, container ke-3\nOver priced\nhalaman ke-3, container ke-4\nDon’t buy a package with one of their partner hotels!\nhalaman ke-3, container ke-5\nrides close often\nhalaman ke-3, container ke-6\nMoney Money money, it’s. Rich mNs world\nhalaman ke-3, container ke-7\nUniversal Florida\nhalaman ke-3, container ke-8\nFrom bad to worse as time goes by.\nhalaman ke-3, container ke-9\nThere's Disney...then THERES UNIVERSAL ORLANDO\n",
     "output_type": "stream"
    }
   ]
  },
  {
   "cell_type": "code",
   "source": "print(\"test2\")",
   "metadata": {
    "tags": [],
    "cell_id": "00002-10519feb-b1e3-48e9-bf34-20745237befe",
    "deepnote_to_be_reexecuted": false,
    "source_hash": "aadaf3cd",
    "execution_start": 1621829889660,
    "execution_millis": 0,
    "deepnote_cell_type": "code"
   },
   "outputs": [
    {
     "name": "stdout",
     "text": "test2\n",
     "output_type": "stream"
    }
   ],
   "execution_count": null
  },
  {
   "cell_type": "markdown",
   "source": "<a style='text-decoration:none;line-height:16px;display:flex;color:#5B5B62;padding:10px;justify-content:end;' href='https://deepnote.com?utm_source=created-in-deepnote-cell&projectId=455dbd66-b743-41fb-bb10-e0d89ff02cc3' target=\"_blank\">\n<img alt='Created in deepnote.com' style='display:inline;max-height:16px;margin:0px;margin-right:7.5px;' src='data:image/svg+xml;base64,PD94bWwgdmVyc2lvbj0iMS4wIiBlbmNvZGluZz0iVVRGLTgiPz4KPHN2ZyB3aWR0aD0iODBweCIgaGVpZ2h0PSI4MHB4IiB2aWV3Qm94PSIwIDAgODAgODAiIHZlcnNpb249IjEuMSIgeG1sbnM9Imh0dHA6Ly93d3cudzMub3JnLzIwMDAvc3ZnIiB4bWxuczp4bGluaz0iaHR0cDovL3d3dy53My5vcmcvMTk5OS94bGluayI+CiAgICA8IS0tIEdlbmVyYXRvcjogU2tldGNoIDU0LjEgKDc2NDkwKSAtIGh0dHBzOi8vc2tldGNoYXBwLmNvbSAtLT4KICAgIDx0aXRsZT5Hcm91cCAzPC90aXRsZT4KICAgIDxkZXNjPkNyZWF0ZWQgd2l0aCBTa2V0Y2guPC9kZXNjPgogICAgPGcgaWQ9IkxhbmRpbmciIHN0cm9rZT0ibm9uZSIgc3Ryb2tlLXdpZHRoPSIxIiBmaWxsPSJub25lIiBmaWxsLXJ1bGU9ImV2ZW5vZGQiPgogICAgICAgIDxnIGlkPSJBcnRib2FyZCIgdHJhbnNmb3JtPSJ0cmFuc2xhdGUoLTEyMzUuMDAwMDAwLCAtNzkuMDAwMDAwKSI+CiAgICAgICAgICAgIDxnIGlkPSJHcm91cC0zIiB0cmFuc2Zvcm09InRyYW5zbGF0ZSgxMjM1LjAwMDAwMCwgNzkuMDAwMDAwKSI+CiAgICAgICAgICAgICAgICA8cG9seWdvbiBpZD0iUGF0aC0yMCIgZmlsbD0iIzAyNjVCNCIgcG9pbnRzPSIyLjM3NjIzNzYyIDgwIDM4LjA0NzY2NjcgODAgNTcuODIxNzgyMiA3My44MDU3NTkyIDU3LjgyMTc4MjIgMzIuNzU5MjczOSAzOS4xNDAyMjc4IDMxLjY4MzE2ODMiPjwvcG9seWdvbj4KICAgICAgICAgICAgICAgIDxwYXRoIGQ9Ik0zNS4wMDc3MTgsODAgQzQyLjkwNjIwMDcsNzYuNDU0OTM1OCA0Ny41NjQ5MTY3LDcxLjU0MjI2NzEgNDguOTgzODY2LDY1LjI2MTk5MzkgQzUxLjExMjI4OTksNTUuODQxNTg0MiA0MS42NzcxNzk1LDQ5LjIxMjIyODQgMjUuNjIzOTg0Niw0OS4yMTIyMjg0IEMyNS40ODQ5Mjg5LDQ5LjEyNjg0NDggMjkuODI2MTI5Niw0My4yODM4MjQ4IDM4LjY0NzU4NjksMzEuNjgzMTY4MyBMNzIuODcxMjg3MSwzMi41NTQ0MjUgTDY1LjI4MDk3Myw2Ny42NzYzNDIxIEw1MS4xMTIyODk5LDc3LjM3NjE0NCBMMzUuMDA3NzE4LDgwIFoiIGlkPSJQYXRoLTIyIiBmaWxsPSIjMDAyODY4Ij48L3BhdGg+CiAgICAgICAgICAgICAgICA8cGF0aCBkPSJNMCwzNy43MzA0NDA1IEwyNy4xMTQ1MzcsMC4yNTcxMTE0MzYgQzYyLjM3MTUxMjMsLTEuOTkwNzE3MDEgODAsMTAuNTAwMzkyNyA4MCwzNy43MzA0NDA1IEM4MCw2NC45NjA0ODgyIDY0Ljc3NjUwMzgsNzkuMDUwMzQxNCAzNC4zMjk1MTEzLDgwIEM0Ny4wNTUzNDg5LDc3LjU2NzA4MDggNTMuNDE4MjY3Nyw3MC4zMTM2MTAzIDUzLjQxODI2NzcsNTguMjM5NTg4NSBDNTMuNDE4MjY3Nyw0MC4xMjg1NTU3IDM2LjMwMzk1NDQsMzcuNzMwNDQwNSAyNS4yMjc0MTcsMzcuNzMwNDQwNSBDMTcuODQzMDU4NiwzNy43MzA0NDA1IDkuNDMzOTE5NjYsMzcuNzMwNDQwNSAwLDM3LjczMDQ0MDUgWiIgaWQ9IlBhdGgtMTkiIGZpbGw9IiMzNzkzRUYiPjwvcGF0aD4KICAgICAgICAgICAgPC9nPgogICAgICAgIDwvZz4KICAgIDwvZz4KPC9zdmc+' > </img>\nCreated in <span style='font-weight:600;margin-left:4px;'>Deepnote</span></a>",
   "metadata": {
    "tags": [],
    "created_in_deepnote_cell": true,
    "deepnote_cell_type": "markdown"
   }
  }
 ],
 "nbformat": 4,
 "nbformat_minor": 2,
 "metadata": {
  "orig_nbformat": 2,
  "deepnote": {
   "is_reactive": false
  },
  "deepnote_notebook_id": "70b835f4-ba89-481b-b93b-c967128027c6",
  "deepnote_execution_queue": []
 }
}