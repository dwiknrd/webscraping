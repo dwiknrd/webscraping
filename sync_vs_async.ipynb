{
 "cells": [
  {
   "cell_type": "markdown",
   "source": "# Synchronous vs. Asynchronous in Python",
   "metadata": {
    "tags": [],
    "cell_id": "00000-f95dbaef-38c1-48be-9102-bf93a5abbb9f",
    "deepnote_cell_type": "text-cell-h1"
   }
  },
  {
   "cell_type": "code",
   "metadata": {
    "tags": [],
    "cell_id": "00000-dee959da-c7d6-41ff-860c-3901d9a3ef3c",
    "deepnote_to_be_reexecuted": false,
    "source_hash": "e1a438f2",
    "execution_start": 1620536513322,
    "execution_millis": 10016,
    "deepnote_cell_type": "code"
   },
   "source": "%%time\nimport time\n\niteration_times = [1, 3, 2, 4]\n\ndef sleeper(seconds, i=-1):\n    if i != -1:\n        print(f\"{i}\\t{seconds}s\")\n    time.sleep(seconds) #sync execution\n\ndef run():\n    for i, second in enumerate(iteration_times):\n        sleeper(second, i=i)\n\nrun()",
   "execution_count": null,
   "outputs": [
    {
     "name": "stdout",
     "text": "0\t1s\n1\t3s\n2\t2s\n3\t4s\nCPU times: user 5.33 ms, sys: 0 ns, total: 5.33 ms\nWall time: 10 s\n",
     "output_type": "stream"
    }
   ]
  },
  {
   "cell_type": "code",
   "metadata": {
    "tags": [],
    "cell_id": "00002-00e3d5bf-1cc1-41ba-b318-d61caf13e7b8",
    "deepnote_to_be_reexecuted": false,
    "source_hash": "a3ad91aa",
    "execution_start": 1620536633415,
    "execution_millis": 7,
    "deepnote_cell_type": "code"
   },
   "source": "async def a_sleeper(seconds):\n    return \"abc\"\n\na_sleeper('b')",
   "execution_count": null,
   "outputs": [
    {
     "output_type": "execute_result",
     "execution_count": 3,
     "data": {
      "text/plain": "<coroutine object a_sleeper at 0x7f83ffcfc200>"
     },
     "metadata": {}
    }
   ]
  },
  {
   "cell_type": "markdown",
   "source": "If we using async function we should use await to call",
   "metadata": {
    "tags": [],
    "cell_id": "00003-9afeda59-d771-4372-b61b-87c5614f0ca1",
    "deepnote_cell_type": "text-cell-p"
   }
  },
  {
   "cell_type": "code",
   "metadata": {
    "tags": [],
    "cell_id": "00003-b66e3452-5b1f-45a2-acee-bf7d3ea8d1a1",
    "deepnote_to_be_reexecuted": false,
    "source_hash": "cdf030cd",
    "execution_start": 1620536688001,
    "execution_millis": 4,
    "deepnote_cell_type": "code"
   },
   "source": "async def a_sleeper(seconds):\n    return \"abc\"\n\nawait a_sleeper('b')",
   "execution_count": null,
   "outputs": [
    {
     "output_type": "execute_result",
     "execution_count": 4,
     "data": {
      "text/plain": "'abc'"
     },
     "metadata": {}
    }
   ]
  },
  {
   "cell_type": "code",
   "metadata": {
    "tags": [],
    "cell_id": "00005-8716e121-c896-4e62-8b27-67b16b207bd1",
    "deepnote_to_be_reexecuted": false,
    "source_hash": "a16a520d",
    "execution_start": 1620536869277,
    "execution_millis": 1007,
    "deepnote_cell_type": "code"
   },
   "source": "import asyncio\n\nasync def a_sleeper(seconds):\n    await asyncio.sleep(seconds)\n    return \"abc\"\n\nawait a_sleeper(1)",
   "execution_count": null,
   "outputs": [
    {
     "output_type": "execute_result",
     "execution_count": 6,
     "data": {
      "text/plain": "'abc'"
     },
     "metadata": {}
    }
   ]
  },
  {
   "cell_type": "code",
   "metadata": {
    "tags": [],
    "cell_id": "00006-41bde9cd-ba35-44ec-b1f5-5f2d6f5f2eb6",
    "deepnote_to_be_reexecuted": false,
    "source_hash": "1b45e097",
    "execution_start": 1620537082612,
    "execution_millis": 10019,
    "deepnote_cell_type": "code"
   },
   "source": "iteration_times = [1, 3, 2, 4]\n\nasync def a_sleeper(seconds, i=-1):\n    if i != -1:\n        print(f\"{i}\\t{seconds}s\")\n    await asyncio.sleep(seconds)\n    return \"abc\"\n\nasync def a_run():\n    for i, second in enumerate(iteration_times):\n        await a_sleeper(second, i=i)\n\nawait a_run()",
   "execution_count": null,
   "outputs": [
    {
     "name": "stdout",
     "text": "0\t1s\n1\t3s\n2\t2s\n3\t4s\n",
     "output_type": "stream"
    }
   ]
  },
  {
   "cell_type": "code",
   "metadata": {
    "tags": [],
    "cell_id": "00007-f388fcac-cfc2-4f8d-b8e9-651b766f9799",
    "deepnote_to_be_reexecuted": false,
    "source_hash": "5f535192",
    "execution_start": 1620537360175,
    "execution_millis": 10016,
    "deepnote_cell_type": "code"
   },
   "source": "start = time.time()\n\niteration_times = [1, 3, 2, 4]\nimport asyncio\nasync def a_sleeper(seconds, i=-1):\n    if i != -1:\n        print(f\"{i}\\t{seconds}s\")\n    await asyncio.sleep(seconds)\n    return \"abc\"\n\nasync def a_run():\n    for i, second in enumerate(iteration_times):\n        await a_sleeper(second, i=i)\n\nawait a_run()\n\nend = time.time() - start\nprint(end)",
   "execution_count": null,
   "outputs": [
    {
     "name": "stdout",
     "text": "0\t1s\n1\t3s\n2\t2s\n3\t4s\n10.009515762329102\n",
     "output_type": "stream"
    }
   ]
  },
  {
   "cell_type": "code",
   "metadata": {
    "tags": [],
    "cell_id": "00008-10efaafb-d350-497e-b6b4-0c9c1181de12",
    "deepnote_to_be_reexecuted": false,
    "source_hash": "216ecea6",
    "execution_start": 1620537494739,
    "execution_millis": 12,
    "deepnote_cell_type": "code"
   },
   "source": "start = time.time()\n\niteration_times = [1, 3, 2, 4]\nimport asyncio\nasync def a_sleeper(seconds, i=-1):\n    if i != -1:\n        print(f\"{i}\\t{seconds}s\")\n    await asyncio.sleep(seconds)\n    return \"abc\"\n\nasync def a_run():\n    for i, second in enumerate(iteration_times):\n        asyncio.create_task(a_sleeper(second, i=i))\n\nawait a_run()\n\nend = time.time() - start\nprint(end)",
   "execution_count": null,
   "outputs": [
    {
     "name": "stdout",
     "text": "5.888938903808594e-05\n0\t1s\n1\t3s\n2\t2s\n3\t4s\n",
     "output_type": "stream"
    }
   ]
  },
  {
   "cell_type": "markdown",
   "source": "How to create asynchronous:",
   "metadata": {
    "tags": [],
    "cell_id": "00009-bc59a800-3bcf-42c3-8903-e5775d19837f",
    "deepnote_cell_type": "text-cell-p"
   }
  },
  {
   "cell_type": "markdown",
   "source": "1. To write asynchronous code, we have to write \"async\" in front of a function",
   "metadata": {
    "tags": [],
    "cell_id": "00010-f00eab77-3d9e-406e-a471-2efe2564dbe8",
    "deepnote_cell_type": "text-cell-p"
   }
  },
  {
   "cell_type": "markdown",
   "source": "2.  To execute that function we use \"await\"",
   "metadata": {
    "tags": [],
    "cell_id": "00011-173bfaea-958c-4a7f-b26c-d2712492f120",
    "deepnote_cell_type": "text-cell-p"
   }
  },
  {
   "cell_type": "markdown",
   "source": "3. When we need to run a lot of tasks at once, we need to just create those tasks inside of there \"asyncio.create_task()",
   "metadata": {
    "tags": [],
    "cell_id": "00012-55c39b26-5131-4b6f-97c3-920557db5758",
    "deepnote_cell_type": "text-cell-p"
   }
  },
  {
   "cell_type": "markdown",
   "source": "<a style='text-decoration:none;line-height:16px;display:flex;color:#5B5B62;padding:10px;justify-content:end;' href='https://deepnote.com?utm_source=created-in-deepnote-cell&projectId=455dbd66-b743-41fb-bb10-e0d89ff02cc3' target=\"_blank\">\n<img alt='Created in deepnote.com' style='display:inline;max-height:16px;margin:0px;margin-right:7.5px;' src='data:image/svg+xml;base64,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' > </img>\nCreated in <span style='font-weight:600;margin-left:4px;'>Deepnote</span></a>",
   "metadata": {
    "tags": [],
    "created_in_deepnote_cell": true,
    "deepnote_cell_type": "markdown"
   }
  }
 ],
 "nbformat": 4,
 "nbformat_minor": 2,
 "metadata": {
  "orig_nbformat": 2,
  "deepnote": {
   "is_reactive": false
  },
  "deepnote_notebook_id": "24453f00-1b84-47c5-98a4-c80fe60a63a3",
  "deepnote_execution_queue": []
 }
}