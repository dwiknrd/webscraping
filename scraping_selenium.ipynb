{
 "cells": [
  {
   "cell_type": "markdown",
   "source": "# ",
   "metadata": {
    "tags": [],
    "cell_id": "00000-a47cd5d2-204b-4ce3-835d-97987605377c",
    "deepnote_cell_type": "text-cell-h1"
   }
  },
  {
   "cell_type": "code",
   "metadata": {
    "tags": [],
    "cell_id": "00001-e9d3399c-3f42-43b9-9ad5-082443b84e7b",
    "deepnote_to_be_reexecuted": false,
    "source_hash": "24cb974f",
    "execution_start": 1620545349253,
    "execution_millis": 1,
    "deepnote_cell_type": "code"
   },
   "source": "url = 'https://www.spoonflower.com/en/shop?on=fabric'",
   "execution_count": 13,
   "outputs": []
  },
  {
   "cell_type": "code",
   "source": "!pip install requests_html==0.10.0",
   "metadata": {
    "tags": [],
    "cell_id": "00002-587735c3-25e1-4f0b-b4d2-9a904cc1b046",
    "deepnote_to_be_reexecuted": false,
    "source_hash": "4818ea04",
    "execution_start": 1620545074208,
    "execution_millis": 6482,
    "deepnote_cell_type": "code"
   },
   "outputs": [
    {
     "name": "stdout",
     "text": "Collecting requests_html==0.10.0\n  Downloading requests_html-0.10.0-py3-none-any.whl (13 kB)\nRequirement already satisfied: requests in /shared-libs/python3.7/py/lib/python3.7/site-packages (from requests_html==0.10.0) (2.25.1)\nCollecting pyppeteer>=0.0.14\n  Downloading pyppeteer-0.2.5-py3-none-any.whl (87 kB)\n\u001b[K     |████████████████████████████████| 87 kB 8.2 MB/s \n\u001b[?25hCollecting bs4\n  Downloading bs4-0.0.1.tar.gz (1.1 kB)\nCollecting pyquery\n  Downloading pyquery-1.4.3-py3-none-any.whl (22 kB)\nCollecting fake-useragent\n  Downloading fake-useragent-0.1.11.tar.gz (13 kB)\nCollecting parse\n  Downloading parse-1.19.0.tar.gz (30 kB)\nRequirement already satisfied: w3lib in /shared-libs/python3.7/py/lib/python3.7/site-packages (from requests_html==0.10.0) (1.22.0)\nCollecting importlib-metadata<3.0.0,>=2.1.1\n  Downloading importlib_metadata-2.1.1-py2.py3-none-any.whl (10 kB)\nRequirement already satisfied: appdirs<2.0.0,>=1.4.3 in /shared-libs/python3.7/py-core/lib/python3.7/site-packages (from pyppeteer>=0.0.14->requests_html==0.10.0) (1.4.4)\nRequirement already satisfied: tqdm<5.0.0,>=4.42.1 in /shared-libs/python3.7/py/lib/python3.7/site-packages (from pyppeteer>=0.0.14->requests_html==0.10.0) (4.60.0)\nCollecting websockets<9.0,>=8.1\n  Downloading websockets-8.1-cp37-cp37m-manylinux2010_x86_64.whl (79 kB)\n\u001b[K     |████████████████████████████████| 79 kB 17.1 MB/s \n\u001b[?25hRequirement already satisfied: urllib3<2.0.0,>=1.25.8 in /shared-libs/python3.7/py/lib/python3.7/site-packages (from pyppeteer>=0.0.14->requests_html==0.10.0) (1.26.4)\nCollecting pyee<9.0.0,>=8.1.0\n  Downloading pyee-8.1.0-py2.py3-none-any.whl (12 kB)\nRequirement already satisfied: zipp>=0.5 in /shared-libs/python3.7/py-core/lib/python3.7/site-packages (from importlib-metadata<3.0.0,>=2.1.1->pyppeteer>=0.0.14->requests_html==0.10.0) (3.4.1)\nCollecting beautifulsoup4\n  Downloading beautifulsoup4-4.9.3-py3-none-any.whl (115 kB)\n\u001b[K     |████████████████████████████████| 115 kB 64.9 MB/s \n\u001b[?25hCollecting soupsieve>1.2\n  Downloading soupsieve-2.2.1-py3-none-any.whl (33 kB)\nRequirement already satisfied: cssselect>0.7.9 in /shared-libs/python3.7/py/lib/python3.7/site-packages (from pyquery->requests_html==0.10.0) (1.1.0)\nRequirement already satisfied: lxml>=2.1 in /shared-libs/python3.7/py/lib/python3.7/site-packages (from pyquery->requests_html==0.10.0) (4.6.3)\nRequirement already satisfied: chardet<5,>=3.0.2 in /shared-libs/python3.7/py/lib/python3.7/site-packages (from requests->requests_html==0.10.0) (3.0.4)\nRequirement already satisfied: certifi>=2017.4.17 in /shared-libs/python3.7/py/lib/python3.7/site-packages (from requests->requests_html==0.10.0) (2020.12.5)\nRequirement already satisfied: idna<3,>=2.5 in /shared-libs/python3.7/py/lib/python3.7/site-packages (from requests->requests_html==0.10.0) (2.10)\nRequirement already satisfied: six>=1.4.1 in /shared-libs/python3.7/py-core/lib/python3.7/site-packages (from w3lib->requests_html==0.10.0) (1.16.0)\nBuilding wheels for collected packages: bs4, fake-useragent, parse\n  Building wheel for bs4 (setup.py) ... \u001b[?25ldone\n\u001b[?25h  Created wheel for bs4: filename=bs4-0.0.1-py3-none-any.whl size=1273 sha256=c427501290ac993dd7154c86121353f7f7fbf36c812cb284f925b8404e630b74\n  Stored in directory: /root/.cache/pip/wheels/0a/9e/ba/20e5bbc1afef3a491f0b3bb74d508f99403aabe76eda2167ca\n  Building wheel for fake-useragent (setup.py) ... \u001b[?25ldone\n\u001b[?25h  Created wheel for fake-useragent: filename=fake_useragent-0.1.11-py3-none-any.whl size=13486 sha256=f4d2489d1dbca5d82275b45dbc2b78ccd2c07dbb0b21c570cfaa9e2cc3b21f23\n  Stored in directory: /root/.cache/pip/wheels/ed/f7/62/50ab6c9a0b5567267ab76a9daa9d06315704209b2c5d032031\n  Building wheel for parse (setup.py) ... \u001b[?25ldone\n\u001b[?25h  Created wheel for parse: filename=parse-1.19.0-py3-none-any.whl size=24581 sha256=5fa52fb21c10ed324147a2994233d39576cbbfef9d3aa72461077beaae7f8a62\n  Stored in directory: /root/.cache/pip/wheels/9c/aa/cc/f2228050ccb40f22144b073f15a2c84f11204f29fc0dce028e\nSuccessfully built bs4 fake-useragent parse\nInstalling collected packages: soupsieve, websockets, pyee, importlib-metadata, beautifulsoup4, pyquery, pyppeteer, parse, fake-useragent, bs4, requests-html\n  Attempting uninstall: importlib-metadata\n    Found existing installation: importlib-metadata 4.0.1\n    Not uninstalling importlib-metadata at /shared-libs/python3.7/py-core/lib/python3.7/site-packages, outside environment /root/venv\n    Can't uninstall 'importlib-metadata'. No files were found to uninstall.\nSuccessfully installed beautifulsoup4-4.9.3 bs4-0.0.1 fake-useragent-0.1.11 importlib-metadata-2.1.1 parse-1.19.0 pyee-8.1.0 pyppeteer-0.2.5 pyquery-1.4.3 requests-html-0.10.0 soupsieve-2.2.1 websockets-8.1\n",
     "output_type": "stream"
    }
   ],
   "execution_count": 4
  },
  {
   "cell_type": "code",
   "source": "!pip install selenium==3.141.0",
   "metadata": {
    "tags": [],
    "cell_id": "00003-f8e2aea7-3de5-430d-8d69-46cb915244b1",
    "deepnote_to_be_reexecuted": false,
    "source_hash": "1e78279",
    "execution_start": 1620545092378,
    "execution_millis": 2455,
    "deepnote_cell_type": "code"
   },
   "outputs": [
    {
     "name": "stdout",
     "text": "Collecting selenium==3.141.0\n  Downloading selenium-3.141.0-py2.py3-none-any.whl (904 kB)\n\u001b[K     |████████████████████████████████| 904 kB 25.8 MB/s \n\u001b[?25hRequirement already satisfied: urllib3 in /shared-libs/python3.7/py/lib/python3.7/site-packages (from selenium==3.141.0) (1.26.4)\nInstalling collected packages: selenium\nSuccessfully installed selenium-3.141.0\n",
     "output_type": "stream"
    }
   ],
   "execution_count": 6
  },
  {
   "cell_type": "code",
   "source": "import re\nimport requests\nfrom requests_html import HTML\n\nfrom selenium import webdriver\nfrom selenium.webdriver.chrome.options import Options",
   "metadata": {
    "tags": [],
    "cell_id": "00002-79e762e4-9eab-43c2-8e39-8734b1edfcf8",
    "deepnote_to_be_reexecuted": false,
    "source_hash": "a24c31ca",
    "execution_start": 1620545127751,
    "execution_millis": 2,
    "deepnote_cell_type": "code"
   },
   "outputs": [],
   "execution_count": 10
  },
  {
   "cell_type": "code",
   "source": "def scraper(url):\n    options = Options()\n    options.add_argument('--headless')\n    driver = webdriver.Chrome(options=options)\n    driver.get(url)\n    return driver.page_source\n\ndef extract_id_slug(url_path):\n    regex = r\"^[^\\s]+/(?P<id>\\d+)-(?P<slug>[\\w-]+)$\"\n    group = re.match(regex, url_path)\n    if not group:\n        return None, None\n    return group['id'], group['slug']",
   "metadata": {
    "tags": [],
    "cell_id": "00003-a5c07654-033b-4bc8-a84d-c856431fb25c",
    "deepnote_to_be_reexecuted": false,
    "source_hash": "54977d2e",
    "execution_start": 1620545141015,
    "execution_millis": 1,
    "deepnote_cell_type": "code"
   },
   "outputs": [],
   "execution_count": 11
  },
  {
   "cell_type": "code",
   "source": "content = scraper(url)\ncontent",
   "metadata": {
    "tags": [],
    "cell_id": "00006-e4b032da-1e4b-409d-8a4d-56a2a102e429",
    "deepnote_to_be_reexecuted": false,
    "source_hash": "2b399517",
    "execution_start": 1620545353536,
    "execution_millis": 39,
    "deepnote_cell_type": "code"
   },
   "outputs": [
    {
     "output_type": "error",
     "ename": "WebDriverException",
     "evalue": "Message: 'chromedriver' executable needs to be in PATH. Please see https://sites.google.com/a/chromium.org/chromedriver/home\n",
     "traceback": [
      "\u001b[0;31m---------------------------------------------------------------------------\u001b[0m",
      "\u001b[0;31mFileNotFoundError\u001b[0m                         Traceback (most recent call last)",
      "\u001b[0;32m~/venv/lib/python3.7/site-packages/selenium/webdriver/common/service.py\u001b[0m in \u001b[0;36mstart\u001b[0;34m(self)\u001b[0m\n\u001b[1;32m     75\u001b[0m                                             \u001b[0mstderr\u001b[0m\u001b[0;34m=\u001b[0m\u001b[0mself\u001b[0m\u001b[0;34m.\u001b[0m\u001b[0mlog_file\u001b[0m\u001b[0;34m,\u001b[0m\u001b[0;34m\u001b[0m\u001b[0;34m\u001b[0m\u001b[0m\n\u001b[0;32m---> 76\u001b[0;31m                                             stdin=PIPE)\n\u001b[0m\u001b[1;32m     77\u001b[0m         \u001b[0;32mexcept\u001b[0m \u001b[0mTypeError\u001b[0m\u001b[0;34m:\u001b[0m\u001b[0;34m\u001b[0m\u001b[0;34m\u001b[0m\u001b[0m\n",
      "\u001b[0;32m/usr/local/lib/python3.7/subprocess.py\u001b[0m in \u001b[0;36m__init__\u001b[0;34m(self, args, bufsize, executable, stdin, stdout, stderr, preexec_fn, close_fds, shell, cwd, env, universal_newlines, startupinfo, creationflags, restore_signals, start_new_session, pass_fds, encoding, errors, text)\u001b[0m\n\u001b[1;32m    799\u001b[0m                                 \u001b[0merrread\u001b[0m\u001b[0;34m,\u001b[0m \u001b[0merrwrite\u001b[0m\u001b[0;34m,\u001b[0m\u001b[0;34m\u001b[0m\u001b[0;34m\u001b[0m\u001b[0m\n\u001b[0;32m--> 800\u001b[0;31m                                 restore_signals, start_new_session)\n\u001b[0m\u001b[1;32m    801\u001b[0m         \u001b[0;32mexcept\u001b[0m\u001b[0;34m:\u001b[0m\u001b[0;34m\u001b[0m\u001b[0;34m\u001b[0m\u001b[0m\n",
      "\u001b[0;32m/usr/local/lib/python3.7/subprocess.py\u001b[0m in \u001b[0;36m_execute_child\u001b[0;34m(self, args, executable, preexec_fn, close_fds, pass_fds, cwd, env, startupinfo, creationflags, shell, p2cread, p2cwrite, c2pread, c2pwrite, errread, errwrite, restore_signals, start_new_session)\u001b[0m\n\u001b[1;32m   1550\u001b[0m                             \u001b[0merr_msg\u001b[0m \u001b[0;34m+=\u001b[0m \u001b[0;34m': '\u001b[0m \u001b[0;34m+\u001b[0m \u001b[0mrepr\u001b[0m\u001b[0;34m(\u001b[0m\u001b[0merr_filename\u001b[0m\u001b[0;34m)\u001b[0m\u001b[0;34m\u001b[0m\u001b[0;34m\u001b[0m\u001b[0m\n\u001b[0;32m-> 1551\u001b[0;31m                     \u001b[0;32mraise\u001b[0m \u001b[0mchild_exception_type\u001b[0m\u001b[0;34m(\u001b[0m\u001b[0merrno_num\u001b[0m\u001b[0;34m,\u001b[0m \u001b[0merr_msg\u001b[0m\u001b[0;34m,\u001b[0m \u001b[0merr_filename\u001b[0m\u001b[0;34m)\u001b[0m\u001b[0;34m\u001b[0m\u001b[0;34m\u001b[0m\u001b[0m\n\u001b[0m\u001b[1;32m   1552\u001b[0m                 \u001b[0;32mraise\u001b[0m \u001b[0mchild_exception_type\u001b[0m\u001b[0;34m(\u001b[0m\u001b[0merr_msg\u001b[0m\u001b[0;34m)\u001b[0m\u001b[0;34m\u001b[0m\u001b[0;34m\u001b[0m\u001b[0m\n",
      "\u001b[0;31mFileNotFoundError\u001b[0m: [Errno 2] No such file or directory: 'chromedriver': 'chromedriver'",
      "\nDuring handling of the above exception, another exception occurred:\n",
      "\u001b[0;31mWebDriverException\u001b[0m                        Traceback (most recent call last)",
      "\u001b[0;32m<ipython-input-14-39fca28af90d>\u001b[0m in \u001b[0;36m<module>\u001b[0;34m\u001b[0m\n\u001b[0;32m----> 1\u001b[0;31m \u001b[0mcontent\u001b[0m \u001b[0;34m=\u001b[0m \u001b[0mscraper\u001b[0m\u001b[0;34m(\u001b[0m\u001b[0murl\u001b[0m\u001b[0;34m)\u001b[0m\u001b[0;34m\u001b[0m\u001b[0;34m\u001b[0m\u001b[0m\n\u001b[0m\u001b[1;32m      2\u001b[0m \u001b[0mcontent\u001b[0m\u001b[0;34m\u001b[0m\u001b[0;34m\u001b[0m\u001b[0m\n",
      "\u001b[0;32m<ipython-input-11-8ab0525888fb>\u001b[0m in \u001b[0;36mscraper\u001b[0;34m(url)\u001b[0m\n\u001b[1;32m      2\u001b[0m     \u001b[0moptions\u001b[0m \u001b[0;34m=\u001b[0m \u001b[0mOptions\u001b[0m\u001b[0;34m(\u001b[0m\u001b[0;34m)\u001b[0m\u001b[0;34m\u001b[0m\u001b[0;34m\u001b[0m\u001b[0m\n\u001b[1;32m      3\u001b[0m     \u001b[0moptions\u001b[0m\u001b[0;34m.\u001b[0m\u001b[0madd_argument\u001b[0m\u001b[0;34m(\u001b[0m\u001b[0;34m'--headless'\u001b[0m\u001b[0;34m)\u001b[0m\u001b[0;34m\u001b[0m\u001b[0;34m\u001b[0m\u001b[0m\n\u001b[0;32m----> 4\u001b[0;31m     \u001b[0mdriver\u001b[0m \u001b[0;34m=\u001b[0m \u001b[0mwebdriver\u001b[0m\u001b[0;34m.\u001b[0m\u001b[0mChrome\u001b[0m\u001b[0;34m(\u001b[0m\u001b[0moptions\u001b[0m\u001b[0;34m=\u001b[0m\u001b[0moptions\u001b[0m\u001b[0;34m)\u001b[0m\u001b[0;34m\u001b[0m\u001b[0;34m\u001b[0m\u001b[0m\n\u001b[0m\u001b[1;32m      5\u001b[0m     \u001b[0mdriver\u001b[0m\u001b[0;34m.\u001b[0m\u001b[0mget\u001b[0m\u001b[0;34m(\u001b[0m\u001b[0murl\u001b[0m\u001b[0;34m)\u001b[0m\u001b[0;34m\u001b[0m\u001b[0;34m\u001b[0m\u001b[0m\n\u001b[1;32m      6\u001b[0m     \u001b[0;32mreturn\u001b[0m \u001b[0mdriver\u001b[0m\u001b[0;34m.\u001b[0m\u001b[0mpage_source\u001b[0m\u001b[0;34m\u001b[0m\u001b[0;34m\u001b[0m\u001b[0m\n",
      "\u001b[0;32m~/venv/lib/python3.7/site-packages/selenium/webdriver/chrome/webdriver.py\u001b[0m in \u001b[0;36m__init__\u001b[0;34m(self, executable_path, port, options, service_args, desired_capabilities, service_log_path, chrome_options, keep_alive)\u001b[0m\n\u001b[1;32m     71\u001b[0m             \u001b[0mservice_args\u001b[0m\u001b[0;34m=\u001b[0m\u001b[0mservice_args\u001b[0m\u001b[0;34m,\u001b[0m\u001b[0;34m\u001b[0m\u001b[0;34m\u001b[0m\u001b[0m\n\u001b[1;32m     72\u001b[0m             log_path=service_log_path)\n\u001b[0;32m---> 73\u001b[0;31m         \u001b[0mself\u001b[0m\u001b[0;34m.\u001b[0m\u001b[0mservice\u001b[0m\u001b[0;34m.\u001b[0m\u001b[0mstart\u001b[0m\u001b[0;34m(\u001b[0m\u001b[0;34m)\u001b[0m\u001b[0;34m\u001b[0m\u001b[0;34m\u001b[0m\u001b[0m\n\u001b[0m\u001b[1;32m     74\u001b[0m \u001b[0;34m\u001b[0m\u001b[0m\n\u001b[1;32m     75\u001b[0m         \u001b[0;32mtry\u001b[0m\u001b[0;34m:\u001b[0m\u001b[0;34m\u001b[0m\u001b[0;34m\u001b[0m\u001b[0m\n",
      "\u001b[0;32m~/venv/lib/python3.7/site-packages/selenium/webdriver/common/service.py\u001b[0m in \u001b[0;36mstart\u001b[0;34m(self)\u001b[0m\n\u001b[1;32m     81\u001b[0m                 raise WebDriverException(\n\u001b[1;32m     82\u001b[0m                     \"'%s' executable needs to be in PATH. %s\" % (\n\u001b[0;32m---> 83\u001b[0;31m                         os.path.basename(self.path), self.start_error_message)\n\u001b[0m\u001b[1;32m     84\u001b[0m                 )\n\u001b[1;32m     85\u001b[0m             \u001b[0;32melif\u001b[0m \u001b[0merr\u001b[0m\u001b[0;34m.\u001b[0m\u001b[0merrno\u001b[0m \u001b[0;34m==\u001b[0m \u001b[0merrno\u001b[0m\u001b[0;34m.\u001b[0m\u001b[0mEACCES\u001b[0m\u001b[0;34m:\u001b[0m\u001b[0;34m\u001b[0m\u001b[0;34m\u001b[0m\u001b[0m\n",
      "\u001b[0;31mWebDriverException\u001b[0m: Message: 'chromedriver' executable needs to be in PATH. Please see https://sites.google.com/a/chromium.org/chromedriver/home\n"
     ]
    }
   ],
   "execution_count": 14
  },
  {
   "cell_type": "code",
   "source": "html_r = HTML(html=content)",
   "metadata": {
    "tags": [],
    "cell_id": "00007-bf29c2db-0a75-445a-a242-75375986f603",
    "deepnote_cell_type": "code"
   },
   "outputs": [],
   "execution_count": null
  },
  {
   "cell_type": "code",
   "source": "fabric_links = [x for x in list(html_r.links) if x.startswith(\"/en/fabric\")]\n\ndatas = []\nfor path in fabric_links:\n    id_, slug_ = extract_id_slug(path)\n    print(id_, slug_)\n    data = {\n        'id': id_,\n        'slug': slug_,\n        'path': path,\n        'scraped': 0\n    }\n    datas.append(data)",
   "metadata": {
    "tags": [],
    "cell_id": "00008-78e4ef37-baf6-40f1-a42e-923d9c384eb6",
    "deepnote_cell_type": "code"
   },
   "outputs": [],
   "execution_count": null
  },
  {
   "cell_type": "code",
   "source": "import pandas as pd\n\ndf = pd.DataFrame(datas)",
   "metadata": {
    "tags": [],
    "cell_id": "00009-7126bc54-137a-4b9d-b225-22c461ea82f9",
    "deepnote_cell_type": "code"
   },
   "outputs": [],
   "execution_count": null
  },
  {
   "cell_type": "markdown",
   "source": "<a style='text-decoration:none;line-height:16px;display:flex;color:#5B5B62;padding:10px;justify-content:end;' href='https://deepnote.com?utm_source=created-in-deepnote-cell&projectId=455dbd66-b743-41fb-bb10-e0d89ff02cc3' target=\"_blank\">\n<img alt='Created in deepnote.com' style='display:inline;max-height:16px;margin:0px;margin-right:7.5px;' src='data:image/svg+xml;base64,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' > </img>\nCreated in <span style='font-weight:600;margin-left:4px;'>Deepnote</span></a>",
   "metadata": {
    "tags": [],
    "created_in_deepnote_cell": true,
    "deepnote_cell_type": "markdown"
   }
  }
 ],
 "nbformat": 4,
 "nbformat_minor": 2,
 "metadata": {
  "orig_nbformat": 2,
  "deepnote": {
   "is_reactive": false
  },
  "deepnote_notebook_id": "21084d8f-427b-42f1-b7b4-c25d48521824",
  "deepnote_execution_queue": []
 }
}