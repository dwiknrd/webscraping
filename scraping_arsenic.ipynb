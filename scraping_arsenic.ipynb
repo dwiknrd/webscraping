{
 "cells": [
  {
   "cell_type": "markdown",
   "source": "# ",
   "metadata": {
    "tags": [],
    "cell_id": "00000-859f416d-a842-4919-b06f-8735299590dd",
    "deepnote_cell_type": "text-cell-h1"
   }
  },
  {
   "cell_type": "code",
   "metadata": {
    "tags": [],
    "cell_id": "00001-384ecbf2-8a9f-4916-9403-bd7b24830a59",
    "deepnote_to_be_reexecuted": false,
    "source_hash": "350b6f99",
    "execution_start": 1620546067053,
    "execution_millis": 4126,
    "deepnote_cell_type": "code"
   },
   "source": "!pip install arsenic",
   "execution_count": 1,
   "outputs": [
    {
     "name": "stdout",
     "text": "Collecting arsenic\n  Downloading arsenic-20.9-py3-none-any.whl (17 kB)\nRequirement already satisfied: attrs>=17.4.0 in /shared-libs/python3.7/py-core/lib/python3.7/site-packages (from arsenic) (20.3.0)\nCollecting structlog<21.0.0,>=20.1.0\n  Downloading structlog-20.2.0-py2.py3-none-any.whl (49 kB)\n\u001b[K     |████████████████████████████████| 49 kB 12.5 MB/s \n\u001b[?25hCollecting aiohttp>=2\n  Downloading aiohttp-3.7.4.post0-cp37-cp37m-manylinux2014_x86_64.whl (1.3 MB)\n\u001b[K     |████████████████████████████████| 1.3 MB 43.6 MB/s \n\u001b[?25hCollecting yarl<2.0,>=1.0\n  Downloading yarl-1.6.3-cp37-cp37m-manylinux2014_x86_64.whl (294 kB)\n\u001b[K     |████████████████████████████████| 294 kB 73.6 MB/s \n\u001b[?25hRequirement already satisfied: chardet<5.0,>=2.0 in /shared-libs/python3.7/py/lib/python3.7/site-packages (from aiohttp>=2->arsenic) (3.0.4)\nRequirement already satisfied: typing-extensions>=3.6.5 in /shared-libs/python3.7/py-core/lib/python3.7/site-packages (from aiohttp>=2->arsenic) (3.10.0.0)\nCollecting async-timeout<4.0,>=3.0\n  Downloading async_timeout-3.0.1-py3-none-any.whl (8.2 kB)\nCollecting multidict<7.0,>=4.5\n  Downloading multidict-5.1.0-cp37-cp37m-manylinux2014_x86_64.whl (142 kB)\n\u001b[K     |████████████████████████████████| 142 kB 78.3 MB/s \n\u001b[?25hRequirement already satisfied: idna>=2.0 in /shared-libs/python3.7/py/lib/python3.7/site-packages (from yarl<2.0,>=1.0->aiohttp>=2->arsenic) (2.10)\nInstalling collected packages: multidict, yarl, async-timeout, structlog, aiohttp, arsenic\nSuccessfully installed aiohttp-3.7.4.post0 arsenic-20.9 async-timeout-3.0.1 multidict-5.1.0 structlog-20.2.0 yarl-1.6.3\n",
     "output_type": "stream"
    }
   ]
  },
  {
   "cell_type": "code",
   "source": "%%writefile async_scrape.py\nimport os\nimport asyncio\nfrom arsenic import get_session, keys, browsers, services\nimport pandas as pd\nfrom requests_html import HTML \nimport itertools\nimport re\nimport time\nimport pathlib\nimport pickle\n\n\nasync def extract_id_slug(url_path):\n    regex = r\"^[^\\s]+/(?P<id>\\d+)-(?P<slug>[\\w-]+)$\"\n    group = re.match(regex, url_path)\n    if not group:\n        return None, None\n    return group['id'], group['slug']\n\nasync def get_links(body_content):\n    html_r = HTML(html=body_content)\n    fabric_links = [x for x in list(html_r.links) if x.startswith(\"/en/fabric\")]\n\n    datas = []\n    for path in fabric_links:\n        id_, slug_ = extract_id_slug(path)\n        data = {\n            'id': id_,\n            'slug': slug_,\n            'path': path,\n            'scraped': 0\n        }\n        datas.append(data)\n    return datas\n\nasync def scraper(url):\n    service = services.Chromedriver()\n    browser = browsers.Chrome(chromeOption={\n        'args': ['--headless', '--disable-gpu']\n    })\n\n    async with get_session(service, browser) as session:\n        await session.get(url)\n        body = await session.get_page_source()\n        return body\n\nasync def store_links_as_df_pickle(datas=[], name='links.pkl'):\n    df = pd.DataFrame(datas)\n    df.set_index('id', drop=True, inplace=True)\n    df.to_pickle(name)\n    return df\n\nasync def run(url):\n    body_content = await scraper(url)\n    links = await get_links(body_content)\n    return df\n\nif __name__ == \"__main__\":\n    url = 'https://www.spoonflower.com/en/shop?on=fabric'\n    # loop = asyncio.get_event_loop()\n    # result = loop.run_until_complete(scraper(url))\n    results = asyncio.run(scraper(url))\n    print(results)",
   "metadata": {
    "tags": [],
    "cell_id": "00002-31bbb782-271c-4136-8287-2852a10dba09",
    "deepnote_to_be_reexecuted": false,
    "source_hash": "5becb593",
    "execution_start": 1620546821642,
    "execution_millis": 7,
    "deepnote_cell_type": "code"
   },
   "outputs": [
    {
     "name": "stdout",
     "text": "Overwriting async_scrape.py\n",
     "output_type": "stream"
    }
   ],
   "execution_count": 8
  },
  {
   "cell_type": "code",
   "source": "!python async_scrape.py",
   "metadata": {
    "tags": [],
    "cell_id": "00003-56206e60-dcfc-43d7-b1e7-11456b055c53",
    "deepnote_to_be_reexecuted": false,
    "source_hash": "1157ff37",
    "execution_start": 1620546824335,
    "execution_millis": 1364,
    "deepnote_cell_type": "code"
   },
   "outputs": [
    {
     "name": "stdout",
     "text": "Traceback (most recent call last):\r\n  File \"async_scrape.py\", line 36, in <module>\r\n    result = asyncio.run(scraper(url))\r\n  File \"/usr/local/lib/python3.7/asyncio/runners.py\", line 43, in run\r\n    return loop.run_until_complete(main)\r\n  File \"/usr/local/lib/python3.7/asyncio/base_events.py\", line 587, in run_until_complete\r\n    return future.result()\r\n  File \"async_scrape.py\", line 26, in scraper\r\n    async with get_session(service, browser) as session:\r\n  File \"/root/venv/lib/python3.7/site-packages/arsenic/__init__.py\", line 16, in __aenter__\r\n    self.session = await start_session(self.service, self.browser, self.bind)\r\n  File \"/root/venv/lib/python3.7/site-packages/arsenic/__init__.py\", line 28, in start_session\r\n    driver = await service.start()\r\n  File \"/root/venv/lib/python3.7/site-packages/arsenic/services.py\", line 108, in start\r\n    [self.binary, f\"--port={port}\"], f\"http://localhost:{port}\", self.log_file\r\n  File \"/root/venv/lib/python3.7/site-packages/arsenic/services.py\", line 34, in subprocess_based_service\r\n    process = await impl.start_process(cmd, log_file)\r\n  File \"/root/venv/lib/python3.7/site-packages/arsenic/subprocess.py\", line 57, in start_process\r\n    *cmd, stdout=log_file, stderr=log_file, stdin=DEVNULL\r\n  File \"/usr/local/lib/python3.7/asyncio/subprocess.py\", line 217, in create_subprocess_exec\r\n    stderr=stderr, **kwds)\r\n  File \"/usr/local/lib/python3.7/asyncio/base_events.py\", line 1544, in subprocess_exec\r\n    bufsize, **kwargs)\r\n  File \"/usr/local/lib/python3.7/asyncio/unix_events.py\", line 190, in _make_subprocess_transport\r\n    **kwargs)\r\n  File \"/usr/local/lib/python3.7/asyncio/base_subprocess.py\", line 37, in __init__\r\n    stderr=stderr, bufsize=bufsize, **kwargs)\r\n  File \"/usr/local/lib/python3.7/asyncio/unix_events.py\", line 775, in _start\r\n    universal_newlines=False, bufsize=bufsize, **kwargs)\r\n  File \"/usr/local/lib/python3.7/subprocess.py\", line 800, in __init__\r\n    restore_signals, start_new_session)\r\n  File \"/usr/local/lib/python3.7/subprocess.py\", line 1551, in _execute_child\r\n    raise child_exception_type(errno_num, err_msg, err_filename)\r\nFileNotFoundError: [Errno 2] No such file or directory: 'chromedriver': 'chromedriver'\r\n",
     "output_type": "stream"
    }
   ],
   "execution_count": 9
  },
  {
   "cell_type": "markdown",
   "source": "<a style='text-decoration:none;line-height:16px;display:flex;color:#5B5B62;padding:10px;justify-content:end;' href='https://deepnote.com?utm_source=created-in-deepnote-cell&projectId=455dbd66-b743-41fb-bb10-e0d89ff02cc3' target=\"_blank\">\n<img alt='Created in deepnote.com' style='display:inline;max-height:16px;margin:0px;margin-right:7.5px;' src='data:image/svg+xml;base64,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' > </img>\nCreated in <span style='font-weight:600;margin-left:4px;'>Deepnote</span></a>",
   "metadata": {
    "tags": [],
    "created_in_deepnote_cell": true,
    "deepnote_cell_type": "markdown"
   }
  }
 ],
 "nbformat": 4,
 "nbformat_minor": 2,
 "metadata": {
  "orig_nbformat": 2,
  "deepnote": {
   "is_reactive": false
  },
  "deepnote_notebook_id": "03b477d9-dddc-4bf1-94e2-00c8c3d3c0f1",
  "deepnote_execution_queue": []
 }
}