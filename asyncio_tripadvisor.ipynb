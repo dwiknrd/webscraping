{
 "cells": [
  {
   "cell_type": "code",
   "metadata": {
    "tags": [],
    "cell_id": "00000-1c3e98e8-ad39-456e-b237-20d2f2fd0bf1",
    "deepnote_to_be_reexecuted": false,
    "source_hash": "d2916d9",
    "execution_start": 1622281445632,
    "execution_millis": 8,
    "deepnote_cell_type": "code"
   },
   "source": "%%writefile asyncio_tripadvisor.py\n\nimport os\nimport asyncio\nfrom arsenic import get_session, keys, browsers, services\nimport pandas as pd\nfrom requests_html import HTML \nimport itertools\nimport re\nimport time\nimport pathlib\nimport pickle\nimport itertools\n\nimport logging\nimport structlog #pip install structlog\n\ndef set_arsenic_log_level(level = logging.WARNING):\n    #Create logger\n    logger = logging.getLogger('arsenic')\n\n    def logger_factory():\n        return logger\n\n    structlog.configure(logger_factory=logger_factory)\n    logger.setLevel(level)\n\nasync def get_product_data(body_container):\n    datas = []\n    \n    # print(f'ini list_containe{list_container}')\n\n    for j in range(len(body_container)-1):\n\n        # parse reviewer\n        reviewerEl = await body_container[j].get_element(\".DrjyGw-P._1SRa-qNz.NGv7A1lw._2yS548m8._2cnjB3re._1TAWSgm1._1Z1zA2gh._2-K8UW3T._2AAjjcx8\")\n        reviewer = await reviewerEl.get_text()\n\n        # parse rating\n        ratingEl = await body_container[j].get_element(\".zWXXYhVR\")\n        rating = await ratingEl.get_attribute(\"title\")\n        rating = str(rating).split(\" \")[0]\n\n        # parse written_date\n        written_dateEl = await body_container[j].get_element(\".DrjyGw-P._26S7gyB4._1z-B2F-n._1dimhEoy\")\n        written_date = await written_dateEl.get_text()\n        written_date = written_date.replace(\"Written\", \"\")\n\n        # parse review_title\n        titleEl = await body_container[j].get_element(\"._2tsgCuqy\")\n        title = await titleEl.get_text()\n\n        # parse review text\n        review_El = await body_container[j].get_element(\".DrjyGw-P._26S7gyB4._2nPM5Opx\")\n        review_textEl = await review_El.get_element(\"._2tsgCuqy\")\n        review_text = await review_textEl.get_text()\n        review_text = review_text.replace(\"\\n\", \" \")\n        \n        # branch\n        branch = \"Universal Studios Florida\"\n\n        # print(review)\n        data = {\n            'reviewer':reviewer,\n            'rating':rating,\n            'written_date':written_date,\n            'title':title,\n            'review_text':review_text,\n            'branch':branch\n        }\n        datas.append(data)\n    \n    return datas\n\nasync def scraper(url):\n    service = services.Chromedriver()\n    browser = browsers.Chrome()\n    browser.capabilities = {\n        \"goog:chromeOptions\": {\"args\": [\"--headless\", \"--disable-gpu\", \"--no-sandbox\", \"--disable-dev-shm-usage\"]}\n    }\n    async with get_session(service, browser) as session:\n        \n        await session.get(url)\n        body = await session.get_element(\"._1c8_1ITO\")\n        review_div = await session.get_elements(\"div._1c8_1ITO > div\")\n        product_data = await get_product_data(review_div)\n        return product_data\n  \nasync def run():\n    results = []\n    number_page = 2\n    for i in range(0, number_page):\n        url = f\"https://www.tripadvisor.com/Attraction_Review-g34515-d102432-Reviews-or{i}0-Universal_Studios_Florida-Orlando_Florida.html\"\n        results.append(\n            asyncio.create_task(scraper(url))\n        )\n    list_of_links = await asyncio.gather(*results)\n    results = list(itertools.chain.from_iterable(list_of_links))\n    return results\n\nif __name__ == \"__main__\":\n    set_arsenic_log_level()\n    start = time.time()\n    df = asyncio.run(run())\n    df_review = pd.DataFrame(df)\n    df_review.to_csv('async_review.csv', index=False)\n    end = time.time() - start\n    print(f'total time is: {end}')\n    ",
   "outputs": [
    {
     "name": "stdout",
     "text": "Overwriting asyncio_tripadvisor.py\n",
     "output_type": "stream"
    }
   ],
   "execution_count": null
  },
  {
   "cell_type": "code",
   "metadata": {
    "tags": [],
    "cell_id": "00001-960fd0ec-b452-467b-853f-7eda88c2afe9",
    "deepnote_to_be_reexecuted": false,
    "source_hash": "ab33b009",
    "execution_start": 1622281448894,
    "execution_millis": 18697,
    "deepnote_cell_type": "code"
   },
   "source": "!python asyncio_tripadvisor.py",
   "outputs": [
    {
     "name": "stdout",
     "text": "Starting ChromeDriver 90.0.4430.212 (e3cd97fc771b893b7fd1879196d1215b622c2bed-refs/branch-heads/4430@{#1429}) on port 59583\nOnly local connections are allowed.\nPlease see https://chromedriver.chromium.org/security-considerations for suggestions on keeping ChromeDriver safe.\n[1622281450.334][SEVERE]: bind() failed: Cannot assign requested address (99)\nChromeDriver was started successfully.\nStarting ChromeDriver 90.0.4430.212 (e3cd97fc771b893b7fd1879196d1215b622c2bed-refs/branch-heads/4430@{#1429}) on port 35095\nOnly local connections are allowed.\nPlease see https://chromedriver.chromium.org/security-considerations for suggestions on keeping ChromeDriver safe.\n[1622281450.345][SEVERE]: bind() failed: Cannot assign requested address (99)\nChromeDriver was started successfully.\ntotal time is: 17.044904708862305\n",
     "output_type": "stream"
    }
   ],
   "execution_count": null
  },
  {
   "cell_type": "markdown",
   "source": "<a style='text-decoration:none;line-height:16px;display:flex;color:#5B5B62;padding:10px;justify-content:end;' href='https://deepnote.com?utm_source=created-in-deepnote-cell&projectId=455dbd66-b743-41fb-bb10-e0d89ff02cc3' target=\"_blank\">\n<img alt='Created in deepnote.com' style='display:inline;max-height:16px;margin:0px;margin-right:7.5px;' src='data:image/svg+xml;base64,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' > </img>\nCreated in <span style='font-weight:600;margin-left:4px;'>Deepnote</span></a>",
   "metadata": {
    "tags": [],
    "created_in_deepnote_cell": true,
    "deepnote_cell_type": "markdown"
   }
  }
 ],
 "nbformat": 4,
 "nbformat_minor": 2,
 "metadata": {
  "orig_nbformat": 2,
  "deepnote": {
   "is_reactive": false
  },
  "deepnote_notebook_id": "edf296af-5b35-4906-9372-de4d506c602c",
  "deepnote_execution_queue": []
 }
}